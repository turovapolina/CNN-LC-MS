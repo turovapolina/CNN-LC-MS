{
 "cells": [
  {
   "cell_type": "markdown",
   "id": "7627fd69",
   "metadata": {},
   "source": [
    "# load data"
   ]
  },
  {
   "cell_type": "markdown",
   "id": "e11245ef",
   "metadata": {},
   "source": [
    "load LC-MS data in a form of tensor.  shape of tensor is n_samples * n_timepoints * n_masses"
   ]
  },
  {
   "cell_type": "code",
   "execution_count": 1,
   "id": "9ce2083a",
   "metadata": {
    "ExecuteTime": {
     "end_time": "2023-12-02T12:21:06.412691Z",
     "start_time": "2023-12-02T12:20:52.272756Z"
    }
   },
   "outputs": [],
   "source": [
    "import numpy as np\n",
    "final_tensor = np.load('/interpolated_array_cut.npy')"
   ]
  },
  {
   "cell_type": "code",
   "execution_count": 3,
   "id": "5c898478",
   "metadata": {
    "ExecuteTime": {
     "end_time": "2023-12-02T12:21:18.741829Z",
     "start_time": "2023-12-02T12:21:18.729505Z"
    }
   },
   "outputs": [
    {
     "data": {
      "text/plain": [
       "(186, 750, 1200)"
      ]
     },
     "execution_count": 3,
     "metadata": {},
     "output_type": "execute_result"
    }
   ],
   "source": [
    "final_tensor.shape"
   ]
  },
  {
   "cell_type": "markdown",
   "id": "2c5bbad1",
   "metadata": {},
   "source": [
    "load labels for LS-MS samples"
   ]
  },
  {
   "cell_type": "code",
   "execution_count": 4,
   "id": "344fe327",
   "metadata": {
    "ExecuteTime": {
     "end_time": "2023-12-02T12:22:12.979768Z",
     "start_time": "2023-12-02T12:22:12.972213Z"
    }
   },
   "outputs": [],
   "source": [
    "Y_parts_numpy_n = np.load('/Y_parts_numpy.npy')"
   ]
  },
  {
   "cell_type": "code",
   "execution_count": 5,
   "id": "68b7220b",
   "metadata": {
    "ExecuteTime": {
     "end_time": "2023-12-02T12:22:19.283316Z",
     "start_time": "2023-12-02T12:22:19.275368Z"
    }
   },
   "outputs": [
    {
     "data": {
      "text/plain": [
       "(186,)"
      ]
     },
     "execution_count": 5,
     "metadata": {},
     "output_type": "execute_result"
    }
   ],
   "source": [
    "Y_parts_numpy_n.shape"
   ]
  },
  {
   "cell_type": "markdown",
   "id": "93c07de8",
   "metadata": {},
   "source": [
    "since some samples have technical dublicates in the cohort, they shold be all included in test or in train part"
   ]
  },
  {
   "cell_type": "code",
   "execution_count": 3,
   "id": "8b40ddee",
   "metadata": {
    "ExecuteTime": {
     "end_time": "2022-08-29T20:32:05.340067Z",
     "start_time": "2022-08-29T20:32:04.994429Z"
    }
   },
   "outputs": [],
   "source": [
    "no_dubs = np.arange(0,186,3)\n",
    "from sklearn.model_selection import train_test_split#random state 1,4,12\n",
    "idx_train, idx_test = train_test_split(no_dubs, test_size=0.3,\n",
    "                                    stratify = np.take(Y_parts_numpy_n,no_dubs),random_state=12)"
   ]
  },
  {
   "cell_type": "code",
   "execution_count": 4,
   "id": "0a4c4341",
   "metadata": {
    "ExecuteTime": {
     "end_time": "2022-08-29T20:32:05.573882Z",
     "start_time": "2022-08-29T20:32:05.349509Z"
    }
   },
   "outputs": [],
   "source": [
    "idx_train_with_dubs = []\n",
    "for index in range (3):\n",
    "    idx_train_with_dubs.append(idx_train+index)\n",
    "idx_train_with_dubs = np.array(idx_train_with_dubs).flatten()\n",
    "X_train = np.take(final_tensor,idx_train_with_dubs,axis=0)\n",
    "y_train = np.take(Y_parts_numpy_n,idx_train_with_dubs,axis=0)"
   ]
  },
  {
   "cell_type": "code",
   "execution_count": 5,
   "id": "8ad09e0e",
   "metadata": {
    "ExecuteTime": {
     "end_time": "2022-08-29T20:32:05.757967Z",
     "start_time": "2022-08-29T20:32:05.649918Z"
    }
   },
   "outputs": [],
   "source": [
    "idx_test_with_dubs = []\n",
    "for index in range (3):\n",
    "    idx_test_with_dubs.append(idx_test+index)\n",
    "idx_test_with_dubs = np.array(idx_test_with_dubs).flatten()\n",
    "X_test = np.take(final_tensor,idx_test_with_dubs,axis=0)\n",
    "y_test = np.take(Y_parts_numpy_n,idx_test_with_dubs,axis=0)"
   ]
  },
  {
   "cell_type": "markdown",
   "id": "b801e98e",
   "metadata": {},
   "source": [
    "# perform different augmentations"
   ]
  },
  {
   "cell_type": "markdown",
   "id": "8e85cfa4",
   "metadata": {},
   "source": [
    "can be chosen one option or all three can be done"
   ]
  },
  {
   "cell_type": "markdown",
   "id": "458bbaa3",
   "metadata": {},
   "source": [
    "this option stretches chromatogram, increasing number of timepoints from 750 to 760-790 (but last points are cut) simulating instable pump"
   ]
  },
  {
   "cell_type": "code",
   "execution_count": 6,
   "id": "c68d6516",
   "metadata": {
    "ExecuteTime": {
     "end_time": "2022-08-29T20:30:31.979544Z",
     "start_time": "2022-08-29T20:30:28.815927Z"
    }
   },
   "outputs": [],
   "source": [
    "import cv2\n",
    "X_train_augmented = np.empty((516,750,1200))\n",
    "k = 0\n",
    "for j in range (len(X_train)):\n",
    "    for i in range (760,790,10):\n",
    "        new_image = cv2.resize(X_train[j],(1200,i))\n",
    "        X_train_augmented[k] = new_image[:750,:]\n",
    "        k = k + 1\n",
    "    X_train_augmented[k] = X_train[j]\n",
    "    k = k+1\n",
    "X_train_augmented = np.array(X_train_augmented)\n",
    "y_train_augmented = np.repeat(y_train, 4)"
   ]
  },
  {
   "cell_type": "markdown",
   "id": "4c17163a",
   "metadata": {},
   "source": [
    "this option stretches chromatogram in the beggining, but shrinks in the end simulating instable pump"
   ]
  },
  {
   "cell_type": "code",
   "execution_count": 6,
   "id": "952bd03a",
   "metadata": {
    "ExecuteTime": {
     "end_time": "2022-08-29T20:22:12.370789Z",
     "start_time": "2022-08-29T20:22:09.983330Z"
    }
   },
   "outputs": [],
   "source": [
    "import cv2\n",
    "X_train_augmented = np.empty((258,750,1200))\n",
    "k = 0\n",
    "for j in range (len(X_train)):\n",
    "    new_image = cv2.resize(X_train[j,0:50,:],(1200,51))\n",
    "    for i in range (50,750,50):\n",
    "        new_image1 = cv2.resize(X_train[j,i:i+50,:],(1200,51+(i//100)))\n",
    "        new_image = np.concatenate((new_image,new_image1),axis = 0)\n",
    "    X_train_augmented[k] = new_image[:750,:]\n",
    "    k = k+1\n",
    "    X_train_augmented[k] = X_train[j]\n",
    "    k = k+1\n",
    "X_train_augmented = np.array(X_train_augmented)\n",
    "y_train_augmented = np.repeat(y_train, 2)"
   ]
  },
  {
   "cell_type": "code",
   "execution_count": 6,
   "id": "90d907bf",
   "metadata": {
    "ExecuteTime": {
     "end_time": "2022-08-12T08:25:23.281562Z",
     "start_time": "2022-08-12T08:22:53.558158Z"
    }
   },
   "outputs": [],
   "source": [
    "import cv2\n",
    "X_train_augmented = np.empty((645, 750,1200))\n",
    "k = 0\n",
    "for j in range (len(X_train)):\n",
    "    for i in range (760,790,10):\n",
    "        new_image = cv2.resize(X_train[j],(1200,i))\n",
    "        X_train_augmented[k] = new_image[:750,:]\n",
    "        k = k + 1\n",
    "    new_image = cv2.resize(X_train[j,0:50,:],(1200,51))\n",
    "    for i in range (50,750,50):\n",
    "        new_image1 = cv2.resize(X_train[j,i:i+50,:],(1200,51+(i//100)))\n",
    "        new_image = np.concatenate((new_image,new_image1),axis = 0)\n",
    "    X_train_augmented[k] = new_image[:750,:]\n",
    "    k = k+1\n",
    "    X_train_augmented[k] = X_train[j]\n",
    "    k = k+1\n",
    "X_train_augmented = np.array(X_train_augmented)\n",
    "y_train_augmented = np.repeat(y_train, 5)"
   ]
  },
  {
   "cell_type": "code",
   "execution_count": 6,
   "id": "2d2bf04a",
   "metadata": {
    "ExecuteTime": {
     "end_time": "2023-12-02T13:05:29.416473Z",
     "start_time": "2023-12-02T13:03:25.299269Z"
    }
   },
   "outputs": [],
  },
  {
   "cell_type": "markdown",
   "id": "bbdef5e4",
   "metadata": {},
   "source": [
    "this augmentation perform mass shifts and intensity supression"
   ]
  },
  {
   "cell_type": "code",
   "execution_count": 12,
   "id": "558b0ef0",
   "metadata": {
    "ExecuteTime": {
     "end_time": "2022-08-03T14:25:35.888903Z",
     "start_time": "2022-08-03T14:25:35.865029Z"
    }
   },
   "outputs": [],
   "source": [
    "int_mass_aug = np.zeros((1,1))"
   ]
  },
  {
   "cell_type": "code",
   "execution_count": 7,
   "id": "95027bae",
   "metadata": {
    "ExecuteTime": {
     "end_time": "2022-08-29T20:32:36.408826Z",
     "start_time": "2022-08-29T20:32:13.202650Z"
    }
   },
   "outputs": [],
   "source": [
    "X_train_augmented = np.copy(X_train)\n",
    "y_train_augmented = np.copy(y_train)\n",
    "from matplotlib import pyplot as plt\n",
    "for i in range (4):\n",
    "    mass_aug = np.take(int_mass_aug,idx_train_with_dubs+186*i,axis=0)\n",
    "    X_train_augmented = np.concatenate((X_train_augmented, mass_aug), axis=0)\n",
    "    y_aug = np.take(Y_parts_numpy_n,idx_train_with_dubs,axis=0)\n",
    "    y_train_augmented = np.concatenate((y_train_augmented, y_aug), axis=0)\n",
    "mass_aug = np.take(final_tensor*0.95,idx_train_with_dubs,axis=0)\n",
    "X_train_augmented = np.concatenate((X_train_augmented, mass_aug), axis=0)\n",
    "y_aug = np.take(Y_parts_numpy_n,idx_train_with_dubs,axis=0)\n",
    "y_train_augmented = np.concatenate((y_train_augmented, y_aug), axis=0)"
   ]
  },
  {
   "cell_type": "code",
   "execution_count": 8,
   "id": "f77938d3",
   "metadata": {
    "ExecuteTime": {
     "end_time": "2022-08-29T20:32:37.124265Z",
     "start_time": "2022-08-29T20:32:36.412743Z"
    }
   },
   "outputs": [
    {
     "data": {
      "text/plain": [
       "(57, 900000)"
      ]
     },
     "execution_count": 8,
     "metadata": {},
     "output_type": "execute_result"
    }
   ],
   "source": [
    "X_train_unfolded = []\n",
    "for i in range (len(X_train)):\n",
    "    X_train_unfolded.append(X_train[i].flatten())\n",
    "X_train_unfolded = np.array(X_train_unfolded)\n",
    "X_train_unfolded.shape\n",
    "\n",
    "X_test_unfolded = []\n",
    "for i in range (len(X_test)):\n",
    "    X_test_unfolded.append(X_test[i].flatten())\n",
    "X_test_unfolded = np.array(X_test_unfolded)\n",
    "X_test_unfolded.shape"
   ]
  },
  {
   "cell_type": "markdown",
   "id": "86759acc",
   "metadata": {},
   "source": [
    "# SVM classifyer"
   ]
  },
  {
   "cell_type": "markdown",
   "id": "cefe633b",
   "metadata": {},
   "source": [
    "## No augmentation"
   ]
  },
  {
   "cell_type": "code",
   "execution_count": 8,
   "id": "ec6ec8e5",
   "metadata": {
    "ExecuteTime": {
     "end_time": "2022-08-29T19:48:10.060384Z",
     "start_time": "2022-08-29T19:48:02.168759Z"
    }
   },
   "outputs": [],
   "source": [
    "from scipy import stats\n",
    "import pandas as pd\n",
    "X_test_unfolded_zscore = np.nan_to_num(stats.zscore(pd.DataFrame(X_test_unfolded)))\n",
    "X_train_unfolded_zscore = np.nan_to_num(stats.zscore(pd.DataFrame(X_train_unfolded)))"
   ]
  },
  {
   "cell_type": "code",
   "execution_count": 9,
   "id": "04804b70",
   "metadata": {
    "ExecuteTime": {
     "end_time": "2022-08-29T19:48:42.663671Z",
     "start_time": "2022-08-29T19:48:10.064325Z"
    }
   },
   "outputs": [
    {
     "name": "stdout",
     "output_type": "stream",
     "text": [
      "[LibLinear]..*\n",
      "optimization finished, #iter = 24\n",
      "Objective value = -0.000193\n",
      "nSV = 105\n",
      "..*\n",
      "optimization finished, #iter = 21\n",
      "Objective value = -0.000162\n",
      "nSV = 99\n",
      ".*\n",
      "optimization finished, #iter = 14\n",
      "Objective value = -0.000059\n",
      "nSV = 93\n",
      ".*\n",
      "optimization finished, #iter = 19\n",
      "Objective value = -0.000133\n",
      "nSV = 96\n",
      "Accuracy: 0.5614035087719298\n",
      "f1_score: 0.5614035087719298\n",
      "              precision    recall  f1-score   support\n",
      "\n",
      "       roots       0.40      0.33      0.36        12\n",
      "       stems       0.38      0.75      0.50        12\n",
      "      leaves       0.93      0.72      0.81        18\n",
      "      fruits       0.67      0.40      0.50        15\n",
      "\n",
      "    accuracy                           0.56        57\n",
      "   macro avg       0.59      0.55      0.54        57\n",
      "weighted avg       0.63      0.56      0.57        57\n",
      "\n"
     ]
    }
   ],
   "source": [
    "from sklearn.svm import LinearSVC\n",
    "clf = LinearSVC(verbose=2)\n",
    "clf.fit(X_train_unfolded_zscore, y_train)\n",
    "y_pred = clf.predict(X_test_unfolded_zscore)\n",
    "from sklearn import metrics\n",
    "# Model Accuracy: how often is the classifier correct?\n",
    "print(\"Accuracy:\",metrics.accuracy_score(y_test, y_pred))\n",
    "print(\"f1_score:\",metrics.f1_score(y_test, y_pred,average='micro'))\n",
    "target_names = ['roots', 'stems', 'leaves', 'fruits']\n",
    "print(metrics.classification_report(y_test, y_pred, target_names=target_names))"
   ]
  },
  {
   "cell_type": "markdown",
   "id": "7d18511f",
   "metadata": {},
   "source": [
    "## Augmentation"
   ]
  },
  {
   "cell_type": "code",
   "execution_count": 9,
   "id": "2e556db1",
   "metadata": {
    "ExecuteTime": {
     "end_time": "2022-08-29T20:32:41.987927Z",
     "start_time": "2022-08-29T20:32:37.126693Z"
    }
   },
   "outputs": [
    {
     "data": {
      "text/plain": [
       "(774, 900000)"
      ]
     },
     "execution_count": 9,
     "metadata": {},
     "output_type": "execute_result"
    }
   ],
   "source": [
    "X_train_unfolded_augmented = []\n",
    "for i in range (len(X_train_augmented)):\n",
    "    X_train_unfolded_augmented.append(X_train_augmented[i].flatten())\n",
    "X_train_unfolded_augmented = np.array(X_train_unfolded_augmented)\n",
    "X_train_unfolded_augmented.shape"
   ]
  },
  {
   "cell_type": "code",
   "execution_count": 10,
   "id": "85f9c659",
   "metadata": {
    "ExecuteTime": {
     "end_time": "2022-08-29T20:32:50.505899Z",
     "start_time": "2022-08-29T20:32:41.991287Z"
    }
   },
   "outputs": [],
   "source": [
    "from scipy import stats\n",
    "import pandas as pd\n",
    "X_test_unfolded_zscore = np.nan_to_num(stats.zscore(pd.DataFrame(X_test_unfolded)))\n",
    "X_train_unfolded_zscore = np.nan_to_num(stats.zscore(pd.DataFrame(X_train_unfolded)))"
   ]
  },
  {
   "cell_type": "code",
   "execution_count": 11,
   "id": "3b3e945d",
   "metadata": {
    "ExecuteTime": {
     "end_time": "2022-08-29T20:33:27.310422Z",
     "start_time": "2022-08-29T20:32:50.508743Z"
    }
   },
   "outputs": [],
   "source": [
    "from scipy import stats\n",
    "import pandas as pd\n",
    "X_train_unfolded_augmented_zscore = np.nan_to_num(stats.zscore(pd.DataFrame(X_train_unfolded_augmented)))"
   ]
  },
  {
   "cell_type": "code",
   "execution_count": 12,
   "id": "55ce09f9",
   "metadata": {
    "ExecuteTime": {
     "end_time": "2022-08-29T20:48:05.712155Z",
     "start_time": "2022-08-29T20:33:27.313216Z"
    },
    "scrolled": true
   },
   "outputs": [
    {
     "name": "stdout",
     "output_type": "stream",
     "text": [
      "[LibLinear]......*.\n",
      "optimization finished, #iter = 70\n",
      "Objective value = -0.000261\n",
      "nSV = 623\n",
      "......*\n",
      "optimization finished, #iter = 61\n",
      "Objective value = -0.000281\n",
      "nSV = 495\n",
      "........................*\n",
      "optimization finished, #iter = 243\n",
      "Objective value = -0.000080\n",
      "nSV = 423\n",
      "........*.\n",
      "optimization finished, #iter = 90\n",
      "Objective value = -0.000203\n",
      "nSV = 480\n",
      "Accuracy: 0.6491228070175439\n",
      "f1_score: 0.6491228070175439\n",
      "              precision    recall  f1-score   support\n",
      "\n",
      "       roots       0.45      0.42      0.43        12\n",
      "       stems       0.43      0.75      0.55        12\n",
      "      leaves       1.00      0.89      0.94        18\n",
      "      fruits       0.78      0.47      0.58        15\n",
      "\n",
      "    accuracy                           0.65        57\n",
      "   macro avg       0.67      0.63      0.63        57\n",
      "weighted avg       0.71      0.65      0.66        57\n",
      "\n"
     ]
    }
   ],
   "source": [
    "from sklearn.svm import LinearSVC\n",
    "clf = LinearSVC(verbose=2)\n",
    "clf.fit(X_train_unfolded_augmented_zscore, y_train_augmented)\n",
    "y_pred = clf.predict(X_test_unfolded_zscore)\n",
    "from sklearn import metrics\n",
    "# Model Accuracy: how often is the classifier correct?\n",
    "print(\"Accuracy:\",metrics.accuracy_score(y_test, y_pred))\n",
    "print(\"f1_score:\",metrics.f1_score(y_test, y_pred,average='micro'))\n",
    "target_names = ['roots', 'stems', 'leaves', 'fruits']\n",
    "print(metrics.classification_report(y_test, y_pred, target_names=target_names))"
   ]
  },
  {
   "cell_type": "markdown",
   "id": "6dbac56a",
   "metadata": {},
   "source": [
    "# Neural networks"
   ]
  },
  {
   "cell_type": "markdown",
   "id": "d4ebad72",
   "metadata": {},
   "source": [
    "Classic ResNet architecture with cross entropy as loss function"
   ]
  },
  {
   "cell_type": "code",
   "execution_count": 9,
   "id": "0227006e",
   "metadata": {
    "ExecuteTime": {
     "end_time": "2022-08-02T20:15:50.182265Z",
     "start_time": "2022-08-02T20:15:48.226263Z"
    }
   },
   "outputs": [
    {
     "name": "stderr",
     "output_type": "stream",
     "text": [
      "/home/pturova/pytorch_venv/lib/python3.7/site-packages/tqdm/auto.py:22: TqdmWarning: IProgress not found. Please update jupyter and ipywidgets. See https://ipywidgets.readthedocs.io/en/stable/user_install.html\n",
      "  from .autonotebook import tqdm as notebook_tqdm\n"
     ]
    },
    {
     "data": {
      "text/plain": [
       "<torch._C.Generator at 0x7f425b0563d0>"
      ]
     },
     "execution_count": 9,
     "metadata": {},
     "output_type": "execute_result"
    }
   ],
   "source": [
    "import torch\n",
    "import torch.nn as nn\n",
    "import torch.nn.functional as F\n",
    "import torch.utils.data as utils\n",
    "import torchvision.transforms as transforms\n",
    "from torch.utils.data import DataLoader, Dataset\n",
    "#import matplotlib.pyplot as plt\n",
    "import torchvision.utils\n",
    "import torchvision\n",
    "from torchvision import models\n",
    "torch.manual_seed(42)"
   ]
  },
  {
   "cell_type": "markdown",
   "id": "0785307e",
   "metadata": {},
   "source": [
    "## no augmentation"
   ]
  },
  {
   "cell_type": "code",
   "execution_count": 10,
   "id": "fca8fbe7",
   "metadata": {
    "ExecuteTime": {
     "end_time": "2022-08-02T20:16:33.927449Z",
     "start_time": "2022-08-02T20:16:33.366433Z"
    }
   },
   "outputs": [],
   "source": [
    "X_train_NN = X_train[:,:,100:850]\n",
    "X_train_NN = np.expand_dims(X_train_NN, axis=1)\n",
    "X_train_NN = np.repeat(X_train_NN, 3, axis=1)\n",
    "X_test_NN = X_test[:,:,100:850]\n",
    "X_test_NN = np.expand_dims(X_test_NN, axis=1)\n",
    "X_test_NN = np.repeat(X_test_NN, 3, axis=1)"
   ]
  },
  {
   "cell_type": "code",
   "execution_count": 11,
   "id": "17c862bb",
   "metadata": {
    "ExecuteTime": {
     "end_time": "2022-08-02T20:16:34.604394Z",
     "start_time": "2022-08-02T20:16:34.081358Z"
    }
   },
   "outputs": [
    {
     "name": "stderr",
     "output_type": "stream",
     "text": [
      "/home/pturova/pytorch_venv/lib/python3.7/site-packages/torchvision/models/_utils.py:209: UserWarning: The parameter 'pretrained' is deprecated since 0.13 and will be removed in 0.15, please use 'weights' instead.\n",
      "  f\"The parameter '{pretrained_param}' is deprecated since 0.13 and will be removed in 0.15, \"\n",
      "/home/pturova/pytorch_venv/lib/python3.7/site-packages/torchvision/models/_utils.py:223: UserWarning: Arguments other than a weight enum or `None` for 'weights' are deprecated since 0.13 and will be removed in 0.15. The current behavior is equivalent to passing `weights=ResNet18_Weights.IMAGENET1K_V1`. You can also use `weights=ResNet18_Weights.DEFAULT` to get the most up-to-date weights.\n",
      "  warnings.warn(msg)\n"
     ]
    }
   ],
   "source": [
    "pretrained = models.resnet18(pretrained=True)\n",
    "num_ftrs = pretrained.fc.in_features\n",
    "pretrained.fc = nn.Linear(num_ftrs, 4)"
   ]
  },
  {
   "cell_type": "code",
   "execution_count": 18,
   "id": "33b8e31a",
   "metadata": {
    "ExecuteTime": {
     "end_time": "2022-07-30T13:33:47.819589Z",
     "start_time": "2022-07-30T13:33:47.806502Z"
    }
   },
   "outputs": [],
   "source": [
    "def train_loop(dataloader, model, loss_fn, optimizer):\n",
    "    model.train()\n",
    "    size = len(dataloader.dataset)\n",
    "    for batch, (X, y) in enumerate(dataloader):\n",
    "        # Compute prediction and loss\n",
    "        pred = model(X)\n",
    "        loss = loss_fn(pred, y)\n",
    "\n",
    "        # Backpropagation\n",
    "        optimizer.zero_grad()\n",
    "        loss.backward()\n",
    "        optimizer.step()\n",
    "\n",
    "        if batch % 100 == 0:\n",
    "            loss, current = loss.item(), batch * len(X)\n",
    "            print(f\"loss: {loss:>7f}  [{current:>5d}/{size:>5d}]\")\n",
    "\n",
    "\n",
    "def test_loop(dataloader, model, loss_fn):\n",
    "    model.eval()\n",
    "    size = len(dataloader.dataset)\n",
    "    num_batches = len(dataloader)\n",
    "    test_loss, correct = 0, 0\n",
    "\n",
    "    with torch.no_grad():\n",
    "        for X, y in dataloader:\n",
    "            pred = model(X)\n",
    "            _, preds = torch.max(pred, 1)\n",
    "            test_loss += loss_fn(pred, y).item()\n",
    "            correct += (pred.argmax(1) == y).type(torch.float).sum().item()\n",
    "\n",
    "            #m = nn.Softmax(dim=1)\n",
    "            #pred = m(pred)\n",
    "            #pred = torch.argmax(pred, dim=1)\n",
    "            f1 = round(f1_score(y.cpu().detach().numpy(), preds.cpu().detach().numpy(), average='weighted')*100,1)\n",
    "\n",
    "    test_loss /= num_batches\n",
    "    correct /= size\n",
    "    print(f\"Test Error: \\n Accuracy: {(100*correct):>0.1f}%, Avg loss: {test_loss:>8f} \\n\")\n",
    "    print ('f1 ',f1)\n",
    "    print(classification_report(y_test, y_pred, target_names=target_names))\n",
    "    losses.append(test_loss)\n",
    "    f1_list.append(f1)"
   ]
  },
  {
   "cell_type": "code",
   "execution_count": 19,
   "id": "f3f26728",
   "metadata": {
    "ExecuteTime": {
     "end_time": "2022-07-30T13:34:00.692116Z",
     "start_time": "2022-07-30T13:34:00.479983Z"
    }
   },
   "outputs": [],
   "source": [
    "from torch.utils.data import TensorDataset, DataLoader,WeightedRandomSampler\n",
    "\n",
    "from sklearn.model_selection import train_test_split\n",
    "\n",
    "tensor_x = torch.Tensor(X_train_NN) # transform to torch tensor\n",
    "trans = transforms.Compose([transforms.Normalize((0.485, 0.456, 0.406), (0.229, 0.224, 0.225))])\n",
    "tensor_x = trans(tensor_x)\n",
    "\n",
    "(unique, counts) = np.unique(y_train, return_counts=True)\n",
    "class_weights = 1./torch.tensor(counts, dtype=torch.float) \n",
    "class_weights_all = class_weights[y_train]\n",
    "weighted_sampler = WeightedRandomSampler(\n",
    "    weights=class_weights_all,\n",
    "    num_samples=len(class_weights_all),\n",
    "    replacement=True)\n",
    "\n",
    "tensor_y = torch.Tensor(y_train)\n",
    "tensor_y = tensor_y.type(torch.LongTensor)\n",
    "\n",
    "training_data = TensorDataset(tensor_x,tensor_y)\n",
    "\n",
    "tensor_x = torch.Tensor(X_test_NN) # transform to torch tensor\n",
    " \n",
    "tensor_x = trans(tensor_x)\n",
    "tensor_y = torch.Tensor(y_test)\n",
    "tensor_y = tensor_y.type(torch.LongTensor)\n",
    "\n",
    "test_data = TensorDataset(tensor_x,tensor_y)\n",
    "\n",
    "train_dataloader = DataLoader(training_data, batch_size=16,sampler=weighted_sampler)\n",
    "test_dataloader = DataLoader(test_data, batch_size=16)"
   ]
  },
  {
   "cell_type": "code",
   "execution_count": 21,
   "id": "f602141c",
   "metadata": {
    "ExecuteTime": {
     "end_time": "2022-07-30T14:05:16.814897Z",
     "start_time": "2022-07-30T13:34:35.236597Z"
    },
    "scrolled": true
   },
   "outputs": [
    {
     "name": "stdout",
     "output_type": "stream",
     "text": [
      "Epoch 1\n",
      "-------------------------------\n",
      "loss: 1.398829  [    0/  129]\n",
      "Test Error: \n",
      " Accuracy: 52.6%, Avg loss: 1.230227 \n",
      "\n",
      "f1  64.1\n",
      "Epoch 2\n",
      "-------------------------------\n",
      "loss: 0.986120  [    0/  129]\n",
      "Test Error: \n",
      " Accuracy: 56.1%, Avg loss: 1.158217 \n",
      "\n",
      "f1  57.1\n",
      "Epoch 3\n",
      "-------------------------------\n",
      "loss: 0.531490  [    0/  129]\n",
      "Test Error: \n",
      " Accuracy: 57.9%, Avg loss: 1.060988 \n",
      "\n",
      "f1  50.8\n",
      "Epoch 4\n",
      "-------------------------------\n",
      "loss: 0.498502  [    0/  129]\n",
      "Test Error: \n",
      " Accuracy: 57.9%, Avg loss: 1.121774 \n",
      "\n",
      "f1  66.3\n",
      "Epoch 5\n",
      "-------------------------------\n",
      "loss: 0.282301  [    0/  129]\n",
      "Test Error: \n",
      " Accuracy: 64.9%, Avg loss: 0.966823 \n",
      "\n",
      "f1  61.9\n",
      "Epoch 6\n",
      "-------------------------------\n",
      "loss: 0.169237  [    0/  129]\n",
      "Test Error: \n",
      " Accuracy: 54.4%, Avg loss: 1.102910 \n",
      "\n",
      "f1  62.8\n",
      "Epoch 7\n",
      "-------------------------------\n",
      "loss: 0.161695  [    0/  129]\n",
      "Test Error: \n",
      " Accuracy: 64.9%, Avg loss: 0.892309 \n",
      "\n",
      "f1  68.9\n",
      "Epoch 8\n",
      "-------------------------------\n",
      "loss: 0.123555  [    0/  129]\n",
      "Test Error: \n",
      " Accuracy: 59.6%, Avg loss: 1.152188 \n",
      "\n",
      "f1  54.4\n",
      "Epoch 9\n",
      "-------------------------------\n",
      "loss: 0.077397  [    0/  129]\n",
      "Test Error: \n",
      " Accuracy: 52.6%, Avg loss: 1.202333 \n",
      "\n",
      "f1  49.7\n",
      "Epoch 10\n",
      "-------------------------------\n",
      "loss: 0.072871  [    0/  129]\n",
      "Test Error: \n",
      " Accuracy: 64.9%, Avg loss: 0.841656 \n",
      "\n",
      "f1  74.8\n",
      "Epoch 11\n",
      "-------------------------------\n",
      "loss: 0.064440  [    0/  129]\n",
      "Test Error: \n",
      " Accuracy: 63.2%, Avg loss: 0.882569 \n",
      "\n",
      "f1  66.0\n",
      "Epoch 12\n",
      "-------------------------------\n",
      "loss: 0.032525  [    0/  129]\n",
      "Test Error: \n",
      " Accuracy: 68.4%, Avg loss: 0.749978 \n",
      "\n",
      "f1  66.0\n",
      "Epoch 13\n",
      "-------------------------------\n",
      "loss: 0.018630  [    0/  129]\n",
      "Test Error: \n",
      " Accuracy: 66.7%, Avg loss: 0.768554 \n",
      "\n",
      "f1  74.8\n",
      "Epoch 14\n",
      "-------------------------------\n",
      "loss: 0.025361  [    0/  129]\n",
      "Test Error: \n",
      " Accuracy: 63.2%, Avg loss: 0.880280 \n",
      "\n",
      "f1  57.1\n",
      "Epoch 15\n",
      "-------------------------------\n",
      "loss: 0.017298  [    0/  129]\n",
      "Test Error: \n",
      " Accuracy: 61.4%, Avg loss: 1.030070 \n",
      "\n",
      "f1  64.1\n",
      "Epoch 16\n",
      "-------------------------------\n",
      "loss: 0.052107  [    0/  129]\n",
      "Test Error: \n",
      " Accuracy: 64.9%, Avg loss: 0.835136 \n",
      "\n",
      "f1  68.9\n",
      "Epoch 17\n",
      "-------------------------------\n",
      "loss: 0.039768  [    0/  129]\n",
      "Test Error: \n",
      " Accuracy: 40.4%, Avg loss: 1.307826 \n",
      "\n",
      "f1  36.5\n",
      "Epoch 18\n",
      "-------------------------------\n",
      "loss: 0.037481  [    0/  129]\n",
      "Test Error: \n",
      " Accuracy: 73.7%, Avg loss: 0.867476 \n",
      "\n",
      "f1  73.1\n",
      "Epoch 19\n",
      "-------------------------------\n",
      "loss: 0.051736  [    0/  129]\n",
      "Test Error: \n",
      " Accuracy: 71.9%, Avg loss: 0.853289 \n",
      "\n",
      "f1  84.4\n",
      "Epoch 20\n",
      "-------------------------------\n",
      "loss: 0.014006  [    0/  129]\n",
      "Test Error: \n",
      " Accuracy: 73.7%, Avg loss: 0.725308 \n",
      "\n",
      "f1  74.8\n",
      "Epoch 21\n",
      "-------------------------------\n",
      "loss: 0.024737  [    0/  129]\n",
      "Test Error: \n",
      " Accuracy: 68.4%, Avg loss: 0.849306 \n",
      "\n",
      "f1  74.8\n",
      "Epoch 22\n",
      "-------------------------------\n",
      "loss: 0.077959  [    0/  129]\n",
      "Test Error: \n",
      " Accuracy: 73.7%, Avg loss: 0.751360 \n",
      "\n",
      "f1  77.8\n",
      "Epoch 23\n",
      "-------------------------------\n",
      "loss: 0.019558  [    0/  129]\n",
      "Test Error: \n",
      " Accuracy: 63.2%, Avg loss: 0.817829 \n",
      "\n",
      "f1  55.2\n",
      "Epoch 24\n",
      "-------------------------------\n",
      "loss: 0.030423  [    0/  129]\n",
      "Test Error: \n",
      " Accuracy: 57.9%, Avg loss: 1.536132 \n",
      "\n",
      "f1  55.6\n",
      "Epoch 25\n",
      "-------------------------------\n",
      "loss: 0.033584  [    0/  129]\n",
      "Test Error: \n",
      " Accuracy: 40.4%, Avg loss: 1.581859 \n",
      "\n",
      "f1  18.2\n",
      "Epoch 26\n",
      "-------------------------------\n",
      "loss: 0.012515  [    0/  129]\n",
      "Test Error: \n",
      " Accuracy: 54.4%, Avg loss: 1.154715 \n",
      "\n",
      "f1  57.8\n",
      "Epoch 27\n",
      "-------------------------------\n",
      "loss: 0.018212  [    0/  129]\n",
      "Test Error: \n",
      " Accuracy: 50.9%, Avg loss: 1.080705 \n",
      "\n",
      "f1  51.1\n",
      "Epoch 28\n",
      "-------------------------------\n",
      "loss: 0.025357  [    0/  129]\n",
      "Test Error: \n",
      " Accuracy: 31.6%, Avg loss: 1.779757 \n",
      "\n",
      "f1  34.8\n",
      "Epoch 29\n",
      "-------------------------------\n",
      "loss: 0.023722  [    0/  129]\n",
      "Test Error: \n",
      " Accuracy: 61.4%, Avg loss: 0.843990 \n",
      "\n",
      "f1  66.0\n",
      "Epoch 30\n",
      "-------------------------------\n",
      "loss: 0.029624  [    0/  129]\n",
      "Test Error: \n",
      " Accuracy: 66.7%, Avg loss: 0.655834 \n",
      "\n",
      "f1  74.8\n",
      "Done!\n"
     ]
    }
   ],
   "source": [
    "loss_fn = nn.CrossEntropyLoss()\n",
    "optimizer = torch.optim.Adam(pretrained.parameters(), lr=0.0001)\n",
    "from sklearn.metrics import f1_score\n",
    "epochs = 30\n",
    "losses = []\n",
    "f1_list = []\n",
    "for t in range(epochs):\n",
    "    print(f\"Epoch {t+1}\\n-------------------------------\")\n",
    "    train_loop(train_dataloader, pretrained, loss_fn, optimizer)\n",
    "    test_loop(test_dataloader, pretrained, loss_fn)\n",
    "print(\"Done!\")"
   ]
  },
  {
   "cell_type": "code",
   "execution_count": 1,
   "id": "8ceceaaf",
   "metadata": {
    "ExecuteTime": {
     "end_time": "2022-07-30T14:37:47.227398Z",
     "start_time": "2022-07-30T14:37:47.111854Z"
    }
   },
   "outputs": [
    {
     "ename": "NameError",
     "evalue": "name 'f1_list' is not defined",
     "output_type": "error",
     "traceback": [
      "\u001b[0;31m---------------------------------------------------------------------------\u001b[0m",
      "\u001b[0;31mNameError\u001b[0m                                 Traceback (most recent call last)",
      "\u001b[0;32m/tmp/ipykernel_4160540/3321205898.py\u001b[0m in \u001b[0;36m<module>\u001b[0;34m\u001b[0m\n\u001b[0;32m----> 1\u001b[0;31m \u001b[0mmax\u001b[0m\u001b[0;34m(\u001b[0m\u001b[0mf1_list\u001b[0m\u001b[0;34m)\u001b[0m\u001b[0;34m\u001b[0m\u001b[0;34m\u001b[0m\u001b[0m\n\u001b[0m",
      "\u001b[0;31mNameError\u001b[0m: name 'f1_list' is not defined"
     ]
    }
   ],
   "source": [
    "max(f1_list)"
   ]
  },
  {
   "cell_type": "markdown",
   "id": "c1066a61",
   "metadata": {},
   "source": [
    "## augmentation"
   ]
  },
  {
   "cell_type": "code",
   "execution_count": 12,
   "id": "fd0dbede",
   "metadata": {
    "ExecuteTime": {
     "end_time": "2022-08-02T20:16:52.514357Z",
     "start_time": "2022-08-02T20:16:42.909265Z"
    }
   },
   "outputs": [],
   "source": [
    "X_train_NN = X_train_augmented[:,:,100:850]\n",
    "X_train_NN = np.expand_dims(X_train_NN, axis=1)\n",
    "X_train_NN = np.repeat(X_train_NN, 3, axis=1)\n",
    "X_test_NN = X_test[:,:,100:850]\n",
    "X_test_NN = np.expand_dims(X_test_NN, axis=1)\n",
    "X_test_NN = np.repeat(X_test_NN, 3, axis=1)"
   ]
  },
  {
   "cell_type": "code",
   "execution_count": 13,
   "id": "7642a262",
   "metadata": {
    "ExecuteTime": {
     "end_time": "2022-08-02T20:16:52.977360Z",
     "start_time": "2022-08-02T20:16:52.519914Z"
    }
   },
   "outputs": [],
   "source": [
    "pretrained = models.resnet18(pretrained=True)\n",
    "num_ftrs = pretrained.fc.in_features\n",
    "pretrained.fc = nn.Linear(num_ftrs, 4)"
   ]
  },
  {
   "cell_type": "code",
   "execution_count": 23,
   "id": "54477b79",
   "metadata": {
    "ExecuteTime": {
     "end_time": "2022-08-02T21:23:38.348684Z",
     "start_time": "2022-08-02T21:23:38.316697Z"
    }
   },
   "outputs": [],
   "source": [
    "def train_loop(dataloader, model, loss_fn, optimizer):\n",
    "    model.train()\n",
    "    size = len(dataloader.dataset)\n",
    "    for batch, (X, y) in enumerate(dataloader):\n",
    "        # Compute prediction and loss\n",
    "        pred = model(X)\n",
    "        loss = loss_fn(pred, y)\n",
    "\n",
    "        # Backpropagation\n",
    "        optimizer.zero_grad()\n",
    "        loss.backward()\n",
    "        optimizer.step()\n",
    "\n",
    "        if batch % 100 == 0:\n",
    "            loss, current = loss.item(), batch * len(X)\n",
    "            print(f\"loss: {loss:>7f}  [{current:>5d}/{size:>5d}]\")\n",
    "\n",
    "\n",
    "def test_loop(dataloader, model, loss_fn):\n",
    "    model.eval()\n",
    "    size = len(dataloader.dataset)\n",
    "    num_batches = len(dataloader)\n",
    "    test_loss, correct = 0, 0\n",
    "\n",
    "    with torch.no_grad():\n",
    "        for X, y in dataloader:\n",
    "            pred = model(X)\n",
    "            _, preds = torch.max(pred, 1)\n",
    "            test_loss += loss_fn(pred, y).item()\n",
    "            correct += (pred.argmax(1) == y).type(torch.float).sum().item()\n",
    "\n",
    "            #m = nn.Softmax(dim=1)\n",
    "            #pred = m(pred)\n",
    "            #pred = torch.argmax(pred, dim=1)\n",
    "            f1 = round(f1_score(y.cpu().detach().numpy(), preds.cpu().detach().numpy(), average='weighted')*100,1)\n",
    "\n",
    "    test_loss /= num_batches\n",
    "    correct /= size\n",
    "    print(f\"Test Error: \\n Accuracy: {(100*correct):>0.1f}%, Avg loss: {test_loss:>8f} \\n\")\n",
    "    print ('f1 ',f1)\n",
    "    print(classification_report(y, preds, target_names=target_names))\n",
    "    losses.append(test_loss)\n",
    "    f1_list.append(f1)"
   ]
  },
  {
   "cell_type": "code",
   "execution_count": 24,
   "id": "41a654a9",
   "metadata": {
    "ExecuteTime": {
     "end_time": "2022-08-02T21:23:42.620132Z",
     "start_time": "2022-08-02T21:23:39.619863Z"
    }
   },
   "outputs": [],
   "source": [
    "from torch.utils.data import TensorDataset, DataLoader,WeightedRandomSampler\n",
    "\n",
    "from sklearn.model_selection import train_test_split\n",
    "\n",
    "tensor_x = torch.Tensor(X_train_NN) # transform to torch tensor\n",
    "trans = transforms.Compose([transforms.Normalize((0.485, 0.456, 0.406), (0.229, 0.224, 0.225))])\n",
    "tensor_x = trans(tensor_x)\n",
    "\n",
    "(unique, counts) = np.unique(y_train_augmented, return_counts=True)\n",
    "class_weights = 1./torch.tensor(counts, dtype=torch.float) \n",
    "class_weights_all = class_weights[y_train_augmented]\n",
    "weighted_sampler = WeightedRandomSampler(\n",
    "    weights=class_weights_all,\n",
    "    num_samples=len(class_weights_all),\n",
    "    replacement=True)\n",
    "\n",
    "tensor_y = torch.Tensor(y_train_augmented)\n",
    "tensor_y = tensor_y.type(torch.LongTensor)\n",
    "\n",
    "training_data = TensorDataset(tensor_x,tensor_y)\n",
    "\n",
    "tensor_x = torch.Tensor(X_test_NN) # transform to torch tensor\n",
    " \n",
    "tensor_x = trans(tensor_x)\n",
    "tensor_y = torch.Tensor(y_test)\n",
    "tensor_y = tensor_y.type(torch.LongTensor)\n",
    "\n",
    "test_data = TensorDataset(tensor_x,tensor_y)\n",
    "\n",
    "train_dataloader = DataLoader(training_data, batch_size=32,sampler=weighted_sampler)\n",
    "test_dataloader = DataLoader(test_data, batch_size=32)"
   ]
  },
  {
   "cell_type": "code",
   "execution_count": 27,
   "id": "63639a7d",
   "metadata": {
    "ExecuteTime": {
     "end_time": "2022-08-03T02:07:40.162114Z",
     "start_time": "2022-08-02T22:09:05.368573Z"
    }
   },
   "outputs": [
    {
     "name": "stdout",
     "output_type": "stream",
     "text": [
      "Epoch 1\n",
      "-------------------------------\n",
      "loss: 0.000729  [    0/ 1290]\n",
      "Test Error: \n",
      " Accuracy: 70.2%, Avg loss: 0.639138 \n",
      "\n",
      "f1  75.8\n",
      "              precision    recall  f1-score   support\n",
      "\n",
      "       roots       1.00      0.60      0.75         5\n",
      "       stems       0.80      0.80      0.80         5\n",
      "      leaves       0.73      0.89      0.80         9\n",
      "      fruits       0.67      0.67      0.67         6\n",
      "\n",
      "    accuracy                           0.76        25\n",
      "   macro avg       0.80      0.74      0.75        25\n",
      "weighted avg       0.78      0.76      0.76        25\n",
      "\n",
      "Epoch 2\n",
      "-------------------------------\n",
      "loss: 0.000056  [    0/ 1290]\n",
      "Test Error: \n",
      " Accuracy: 78.9%, Avg loss: 0.561686 \n",
      "\n",
      "f1  79.2\n",
      "              precision    recall  f1-score   support\n",
      "\n",
      "       roots       1.00      0.40      0.57         5\n",
      "       stems       0.62      1.00      0.77         5\n",
      "      leaves       1.00      0.89      0.94         9\n",
      "      fruits       0.71      0.83      0.77         6\n",
      "\n",
      "    accuracy                           0.80        25\n",
      "   macro avg       0.83      0.78      0.76        25\n",
      "weighted avg       0.86      0.80      0.79        25\n",
      "\n",
      "Epoch 3\n",
      "-------------------------------\n",
      "loss: 0.000651  [    0/ 1290]\n",
      "Test Error: \n",
      " Accuracy: 84.2%, Avg loss: 0.595474 \n",
      "\n",
      "f1  79.2\n",
      "              precision    recall  f1-score   support\n",
      "\n",
      "       roots       1.00      0.40      0.57         5\n",
      "       stems       0.62      1.00      0.77         5\n",
      "      leaves       1.00      0.89      0.94         9\n",
      "      fruits       0.71      0.83      0.77         6\n",
      "\n",
      "    accuracy                           0.80        25\n",
      "   macro avg       0.83      0.78      0.76        25\n",
      "weighted avg       0.86      0.80      0.79        25\n",
      "\n",
      "Epoch 4\n",
      "-------------------------------\n",
      "loss: 0.000715  [    0/ 1290]\n",
      "Test Error: \n",
      " Accuracy: 50.9%, Avg loss: 1.965905 \n",
      "\n",
      "f1  34.2\n",
      "              precision    recall  f1-score   support\n",
      "\n",
      "       roots       1.00      0.20      0.33         5\n",
      "       stems       0.80      0.80      0.80         5\n",
      "      leaves       0.00      0.00      0.00         9\n",
      "      fruits       0.32      1.00      0.48         6\n",
      "\n",
      "    accuracy                           0.44        25\n",
      "   macro avg       0.53      0.50      0.40        25\n",
      "weighted avg       0.44      0.44      0.34        25\n",
      "\n",
      "Epoch 5\n",
      "-------------------------------\n"
     ]
    },
    {
     "name": "stderr",
     "output_type": "stream",
     "text": [
      "/home/pturova/pytorch_venv/lib/python3.7/site-packages/sklearn/metrics/_classification.py:1318: UndefinedMetricWarning: Precision and F-score are ill-defined and being set to 0.0 in labels with no predicted samples. Use `zero_division` parameter to control this behavior.\n",
      "  _warn_prf(average, modifier, msg_start, len(result))\n",
      "/home/pturova/pytorch_venv/lib/python3.7/site-packages/sklearn/metrics/_classification.py:1318: UndefinedMetricWarning: Precision and F-score are ill-defined and being set to 0.0 in labels with no predicted samples. Use `zero_division` parameter to control this behavior.\n",
      "  _warn_prf(average, modifier, msg_start, len(result))\n",
      "/home/pturova/pytorch_venv/lib/python3.7/site-packages/sklearn/metrics/_classification.py:1318: UndefinedMetricWarning: Precision and F-score are ill-defined and being set to 0.0 in labels with no predicted samples. Use `zero_division` parameter to control this behavior.\n",
      "  _warn_prf(average, modifier, msg_start, len(result))\n"
     ]
    },
    {
     "name": "stdout",
     "output_type": "stream",
     "text": [
      "loss: 0.000389  [    0/ 1290]\n",
      "Test Error: \n",
      " Accuracy: 80.7%, Avg loss: 0.536871 \n",
      "\n",
      "f1  80.6\n",
      "              precision    recall  f1-score   support\n",
      "\n",
      "       roots       1.00      0.60      0.75         5\n",
      "       stems       0.67      0.80      0.73         5\n",
      "      leaves       1.00      0.89      0.94         9\n",
      "      fruits       0.62      0.83      0.71         6\n",
      "\n",
      "    accuracy                           0.80        25\n",
      "   macro avg       0.82      0.78      0.78        25\n",
      "weighted avg       0.84      0.80      0.81        25\n",
      "\n",
      "Epoch 6\n",
      "-------------------------------\n",
      "loss: 0.000266  [    0/ 1290]\n",
      "Test Error: \n",
      " Accuracy: 80.7%, Avg loss: 0.510386 \n",
      "\n",
      "f1  84.0\n",
      "              precision    recall  f1-score   support\n",
      "\n",
      "       roots       1.00      0.60      0.75         5\n",
      "       stems       0.71      1.00      0.83         5\n",
      "      leaves       1.00      0.89      0.94         9\n",
      "      fruits       0.71      0.83      0.77         6\n",
      "\n",
      "    accuracy                           0.84        25\n",
      "   macro avg       0.86      0.83      0.82        25\n",
      "weighted avg       0.87      0.84      0.84        25\n",
      "\n",
      "Epoch 7\n",
      "-------------------------------\n",
      "loss: 0.000158  [    0/ 1290]\n",
      "Test Error: \n",
      " Accuracy: 86.0%, Avg loss: 0.606668 \n",
      "\n",
      "f1  84.0\n",
      "              precision    recall  f1-score   support\n",
      "\n",
      "       roots       1.00      0.60      0.75         5\n",
      "       stems       0.71      1.00      0.83         5\n",
      "      leaves       1.00      0.89      0.94         9\n",
      "      fruits       0.71      0.83      0.77         6\n",
      "\n",
      "    accuracy                           0.84        25\n",
      "   macro avg       0.86      0.83      0.82        25\n",
      "weighted avg       0.87      0.84      0.84        25\n",
      "\n",
      "Epoch 8\n",
      "-------------------------------\n",
      "loss: 0.000046  [    0/ 1290]\n",
      "Test Error: \n",
      " Accuracy: 82.5%, Avg loss: 0.564837 \n",
      "\n",
      "f1  84.0\n",
      "              precision    recall  f1-score   support\n",
      "\n",
      "       roots       1.00      0.60      0.75         5\n",
      "       stems       0.71      1.00      0.83         5\n",
      "      leaves       1.00      0.89      0.94         9\n",
      "      fruits       0.71      0.83      0.77         6\n",
      "\n",
      "    accuracy                           0.84        25\n",
      "   macro avg       0.86      0.83      0.82        25\n",
      "weighted avg       0.87      0.84      0.84        25\n",
      "\n",
      "Epoch 9\n",
      "-------------------------------\n",
      "loss: 0.000060  [    0/ 1290]\n",
      "Test Error: \n",
      " Accuracy: 86.0%, Avg loss: 0.606318 \n",
      "\n",
      "f1  84.0\n",
      "              precision    recall  f1-score   support\n",
      "\n",
      "       roots       1.00      0.60      0.75         5\n",
      "       stems       0.71      1.00      0.83         5\n",
      "      leaves       1.00      0.89      0.94         9\n",
      "      fruits       0.71      0.83      0.77         6\n",
      "\n",
      "    accuracy                           0.84        25\n",
      "   macro avg       0.86      0.83      0.82        25\n",
      "weighted avg       0.87      0.84      0.84        25\n",
      "\n",
      "Epoch 10\n",
      "-------------------------------\n",
      "loss: 0.000031  [    0/ 1290]\n",
      "Test Error: \n",
      " Accuracy: 84.2%, Avg loss: 0.602865 \n",
      "\n",
      "f1  84.0\n",
      "              precision    recall  f1-score   support\n",
      "\n",
      "       roots       1.00      0.60      0.75         5\n",
      "       stems       0.71      1.00      0.83         5\n",
      "      leaves       1.00      0.89      0.94         9\n",
      "      fruits       0.71      0.83      0.77         6\n",
      "\n",
      "    accuracy                           0.84        25\n",
      "   macro avg       0.86      0.83      0.82        25\n",
      "weighted avg       0.87      0.84      0.84        25\n",
      "\n",
      "Epoch 11\n",
      "-------------------------------\n",
      "loss: 0.000034  [    0/ 1290]\n",
      "Test Error: \n",
      " Accuracy: 82.5%, Avg loss: 0.635229 \n",
      "\n",
      "f1  84.0\n",
      "              precision    recall  f1-score   support\n",
      "\n",
      "       roots       1.00      0.60      0.75         5\n",
      "       stems       0.71      1.00      0.83         5\n",
      "      leaves       1.00      0.89      0.94         9\n",
      "      fruits       0.71      0.83      0.77         6\n",
      "\n",
      "    accuracy                           0.84        25\n",
      "   macro avg       0.86      0.83      0.82        25\n",
      "weighted avg       0.87      0.84      0.84        25\n",
      "\n",
      "Epoch 12\n",
      "-------------------------------\n",
      "loss: 0.000070  [    0/ 1290]\n",
      "Test Error: \n",
      " Accuracy: 80.7%, Avg loss: 0.662495 \n",
      "\n",
      "f1  84.0\n",
      "              precision    recall  f1-score   support\n",
      "\n",
      "       roots       1.00      0.60      0.75         5\n",
      "       stems       0.71      1.00      0.83         5\n",
      "      leaves       1.00      0.89      0.94         9\n",
      "      fruits       0.71      0.83      0.77         6\n",
      "\n",
      "    accuracy                           0.84        25\n",
      "   macro avg       0.86      0.83      0.82        25\n",
      "weighted avg       0.87      0.84      0.84        25\n",
      "\n",
      "Epoch 13\n",
      "-------------------------------\n",
      "loss: 0.000174  [    0/ 1290]\n",
      "Test Error: \n",
      " Accuracy: 84.2%, Avg loss: 0.606382 \n",
      "\n",
      "f1  84.0\n",
      "              precision    recall  f1-score   support\n",
      "\n",
      "       roots       1.00      0.60      0.75         5\n",
      "       stems       0.71      1.00      0.83         5\n",
      "      leaves       1.00      0.89      0.94         9\n",
      "      fruits       0.71      0.83      0.77         6\n",
      "\n",
      "    accuracy                           0.84        25\n",
      "   macro avg       0.86      0.83      0.82        25\n",
      "weighted avg       0.87      0.84      0.84        25\n",
      "\n",
      "Epoch 14\n",
      "-------------------------------\n",
      "loss: 0.000017  [    0/ 1290]\n",
      "Test Error: \n",
      " Accuracy: 84.2%, Avg loss: 0.591445 \n",
      "\n",
      "f1  84.0\n",
      "              precision    recall  f1-score   support\n",
      "\n",
      "       roots       1.00      0.60      0.75         5\n",
      "       stems       0.71      1.00      0.83         5\n",
      "      leaves       1.00      0.89      0.94         9\n",
      "      fruits       0.71      0.83      0.77         6\n",
      "\n",
      "    accuracy                           0.84        25\n",
      "   macro avg       0.86      0.83      0.82        25\n",
      "weighted avg       0.87      0.84      0.84        25\n",
      "\n",
      "Epoch 15\n",
      "-------------------------------\n",
      "loss: 0.000325  [    0/ 1290]\n",
      "Test Error: \n",
      " Accuracy: 84.2%, Avg loss: 0.675511 \n",
      "\n",
      "f1  84.0\n",
      "              precision    recall  f1-score   support\n",
      "\n",
      "       roots       1.00      0.60      0.75         5\n",
      "       stems       0.71      1.00      0.83         5\n",
      "      leaves       1.00      0.89      0.94         9\n",
      "      fruits       0.71      0.83      0.77         6\n",
      "\n",
      "    accuracy                           0.84        25\n",
      "   macro avg       0.86      0.83      0.82        25\n",
      "weighted avg       0.87      0.84      0.84        25\n",
      "\n",
      "Epoch 16\n",
      "-------------------------------\n",
      "loss: 0.000063  [    0/ 1290]\n",
      "Test Error: \n",
      " Accuracy: 86.0%, Avg loss: 0.586785 \n",
      "\n",
      "f1  84.0\n",
      "              precision    recall  f1-score   support\n",
      "\n",
      "       roots       1.00      0.60      0.75         5\n",
      "       stems       0.71      1.00      0.83         5\n",
      "      leaves       1.00      0.89      0.94         9\n",
      "      fruits       0.71      0.83      0.77         6\n",
      "\n",
      "    accuracy                           0.84        25\n",
      "   macro avg       0.86      0.83      0.82        25\n",
      "weighted avg       0.87      0.84      0.84        25\n",
      "\n",
      "Epoch 17\n",
      "-------------------------------\n",
      "loss: 0.000012  [    0/ 1290]\n",
      "Test Error: \n",
      " Accuracy: 84.2%, Avg loss: 0.584608 \n",
      "\n",
      "f1  84.0\n",
      "              precision    recall  f1-score   support\n",
      "\n",
      "       roots       1.00      0.60      0.75         5\n",
      "       stems       0.71      1.00      0.83         5\n",
      "      leaves       1.00      0.89      0.94         9\n",
      "      fruits       0.71      0.83      0.77         6\n",
      "\n",
      "    accuracy                           0.84        25\n",
      "   macro avg       0.86      0.83      0.82        25\n",
      "weighted avg       0.87      0.84      0.84        25\n",
      "\n",
      "Epoch 18\n",
      "-------------------------------\n",
      "loss: 0.000007  [    0/ 1290]\n",
      "Test Error: \n",
      " Accuracy: 80.7%, Avg loss: 0.575816 \n",
      "\n",
      "f1  79.2\n",
      "              precision    recall  f1-score   support\n",
      "\n",
      "       roots       1.00      0.40      0.57         5\n",
      "       stems       0.62      1.00      0.77         5\n",
      "      leaves       1.00      0.89      0.94         9\n",
      "      fruits       0.71      0.83      0.77         6\n",
      "\n",
      "    accuracy                           0.80        25\n",
      "   macro avg       0.83      0.78      0.76        25\n",
      "weighted avg       0.86      0.80      0.79        25\n",
      "\n",
      "Epoch 19\n",
      "-------------------------------\n",
      "loss: 0.000042  [    0/ 1290]\n",
      "Test Error: \n",
      " Accuracy: 82.5%, Avg loss: 0.513682 \n",
      "\n",
      "f1  84.0\n",
      "              precision    recall  f1-score   support\n",
      "\n",
      "       roots       1.00      0.60      0.75         5\n",
      "       stems       0.71      1.00      0.83         5\n",
      "      leaves       1.00      0.89      0.94         9\n",
      "      fruits       0.71      0.83      0.77         6\n",
      "\n",
      "    accuracy                           0.84        25\n",
      "   macro avg       0.86      0.83      0.82        25\n",
      "weighted avg       0.87      0.84      0.84        25\n",
      "\n",
      "Epoch 20\n",
      "-------------------------------\n"
     ]
    },
    {
     "name": "stdout",
     "output_type": "stream",
     "text": [
      "loss: 0.000008  [    0/ 1290]\n",
      "Test Error: \n",
      " Accuracy: 82.5%, Avg loss: 0.484793 \n",
      "\n",
      "f1  84.0\n",
      "              precision    recall  f1-score   support\n",
      "\n",
      "       roots       1.00      0.60      0.75         5\n",
      "       stems       0.71      1.00      0.83         5\n",
      "      leaves       1.00      0.89      0.94         9\n",
      "      fruits       0.71      0.83      0.77         6\n",
      "\n",
      "    accuracy                           0.84        25\n",
      "   macro avg       0.86      0.83      0.82        25\n",
      "weighted avg       0.87      0.84      0.84        25\n",
      "\n",
      "Epoch 21\n",
      "-------------------------------\n",
      "loss: 0.000025  [    0/ 1290]\n",
      "Test Error: \n",
      " Accuracy: 57.9%, Avg loss: 1.577928 \n",
      "\n",
      "f1  55.0\n",
      "              precision    recall  f1-score   support\n",
      "\n",
      "       roots       0.67      0.40      0.50         5\n",
      "       stems       0.75      0.60      0.67         5\n",
      "      leaves       1.00      0.33      0.50         9\n",
      "      fruits       0.40      1.00      0.57         6\n",
      "\n",
      "    accuracy                           0.56        25\n",
      "   macro avg       0.70      0.58      0.56        25\n",
      "weighted avg       0.74      0.56      0.55        25\n",
      "\n",
      "Epoch 22\n",
      "-------------------------------\n",
      "loss: 0.001621  [    0/ 1290]\n",
      "Test Error: \n",
      " Accuracy: 84.2%, Avg loss: 0.361786 \n",
      "\n",
      "f1  82.5\n",
      "              precision    recall  f1-score   support\n",
      "\n",
      "       roots       1.00      0.40      0.57         5\n",
      "       stems       0.71      1.00      0.83         5\n",
      "      leaves       1.00      0.89      0.94         9\n",
      "      fruits       0.75      1.00      0.86         6\n",
      "\n",
      "    accuracy                           0.84        25\n",
      "   macro avg       0.87      0.82      0.80        25\n",
      "weighted avg       0.88      0.84      0.83        25\n",
      "\n",
      "Epoch 23\n",
      "-------------------------------\n",
      "loss: 0.000061  [    0/ 1290]\n",
      "Test Error: \n",
      " Accuracy: 87.7%, Avg loss: 0.374535 \n",
      "\n",
      "f1  88.3\n",
      "              precision    recall  f1-score   support\n",
      "\n",
      "       roots       1.00      0.80      0.89         5\n",
      "       stems       0.71      1.00      0.83         5\n",
      "      leaves       1.00      0.89      0.94         9\n",
      "      fruits       0.83      0.83      0.83         6\n",
      "\n",
      "    accuracy                           0.88        25\n",
      "   macro avg       0.89      0.88      0.87        25\n",
      "weighted avg       0.90      0.88      0.88        25\n",
      "\n",
      "Epoch 24\n",
      "-------------------------------\n",
      "loss: 0.000718  [    0/ 1290]\n",
      "Test Error: \n",
      " Accuracy: 87.7%, Avg loss: 0.353289 \n",
      "\n",
      "f1  84.0\n",
      "              precision    recall  f1-score   support\n",
      "\n",
      "       roots       1.00      0.60      0.75         5\n",
      "       stems       0.71      1.00      0.83         5\n",
      "      leaves       1.00      0.89      0.94         9\n",
      "      fruits       0.71      0.83      0.77         6\n",
      "\n",
      "    accuracy                           0.84        25\n",
      "   macro avg       0.86      0.83      0.82        25\n",
      "weighted avg       0.87      0.84      0.84        25\n",
      "\n",
      "Epoch 25\n",
      "-------------------------------\n",
      "loss: 0.000015  [    0/ 1290]\n",
      "Test Error: \n",
      " Accuracy: 87.7%, Avg loss: 0.380697 \n",
      "\n",
      "f1  84.0\n",
      "              precision    recall  f1-score   support\n",
      "\n",
      "       roots       1.00      0.60      0.75         5\n",
      "       stems       0.71      1.00      0.83         5\n",
      "      leaves       1.00      0.89      0.94         9\n",
      "      fruits       0.71      0.83      0.77         6\n",
      "\n",
      "    accuracy                           0.84        25\n",
      "   macro avg       0.86      0.83      0.82        25\n",
      "weighted avg       0.87      0.84      0.84        25\n",
      "\n",
      "Epoch 26\n",
      "-------------------------------\n",
      "loss: 0.000014  [    0/ 1290]\n",
      "Test Error: \n",
      " Accuracy: 86.0%, Avg loss: 0.388166 \n",
      "\n",
      "f1  84.0\n",
      "              precision    recall  f1-score   support\n",
      "\n",
      "       roots       1.00      0.60      0.75         5\n",
      "       stems       0.71      1.00      0.83         5\n",
      "      leaves       1.00      0.89      0.94         9\n",
      "      fruits       0.71      0.83      0.77         6\n",
      "\n",
      "    accuracy                           0.84        25\n",
      "   macro avg       0.86      0.83      0.82        25\n",
      "weighted avg       0.87      0.84      0.84        25\n",
      "\n",
      "Epoch 27\n",
      "-------------------------------\n",
      "loss: 0.000027  [    0/ 1290]\n",
      "Test Error: \n",
      " Accuracy: 89.5%, Avg loss: 0.339394 \n",
      "\n",
      "f1  84.0\n",
      "              precision    recall  f1-score   support\n",
      "\n",
      "       roots       1.00      0.60      0.75         5\n",
      "       stems       0.71      1.00      0.83         5\n",
      "      leaves       1.00      0.89      0.94         9\n",
      "      fruits       0.71      0.83      0.77         6\n",
      "\n",
      "    accuracy                           0.84        25\n",
      "   macro avg       0.86      0.83      0.82        25\n",
      "weighted avg       0.87      0.84      0.84        25\n",
      "\n",
      "Epoch 28\n",
      "-------------------------------\n",
      "loss: 0.000020  [    0/ 1290]\n",
      "Test Error: \n",
      " Accuracy: 82.5%, Avg loss: 0.423013 \n",
      "\n",
      "f1  84.0\n",
      "              precision    recall  f1-score   support\n",
      "\n",
      "       roots       1.00      0.60      0.75         5\n",
      "       stems       0.71      1.00      0.83         5\n",
      "      leaves       1.00      0.89      0.94         9\n",
      "      fruits       0.71      0.83      0.77         6\n",
      "\n",
      "    accuracy                           0.84        25\n",
      "   macro avg       0.86      0.83      0.82        25\n",
      "weighted avg       0.87      0.84      0.84        25\n",
      "\n",
      "Epoch 29\n",
      "-------------------------------\n",
      "loss: 0.000008  [    0/ 1290]\n",
      "Test Error: \n",
      " Accuracy: 87.7%, Avg loss: 0.377669 \n",
      "\n",
      "f1  84.0\n",
      "              precision    recall  f1-score   support\n",
      "\n",
      "       roots       1.00      0.60      0.75         5\n",
      "       stems       0.71      1.00      0.83         5\n",
      "      leaves       1.00      0.89      0.94         9\n",
      "      fruits       0.71      0.83      0.77         6\n",
      "\n",
      "    accuracy                           0.84        25\n",
      "   macro avg       0.86      0.83      0.82        25\n",
      "weighted avg       0.87      0.84      0.84        25\n",
      "\n",
      "Epoch 30\n",
      "-------------------------------\n",
      "loss: 0.000009  [    0/ 1290]\n",
      "Test Error: \n",
      " Accuracy: 82.5%, Avg loss: 0.471355 \n",
      "\n",
      "f1  79.2\n",
      "              precision    recall  f1-score   support\n",
      "\n",
      "       roots       1.00      0.40      0.57         5\n",
      "       stems       0.62      1.00      0.77         5\n",
      "      leaves       1.00      0.89      0.94         9\n",
      "      fruits       0.71      0.83      0.77         6\n",
      "\n",
      "    accuracy                           0.80        25\n",
      "   macro avg       0.83      0.78      0.76        25\n",
      "weighted avg       0.86      0.80      0.79        25\n",
      "\n",
      "Done!\n"
     ]
    }
   ],
   "source": [
    "loss_fn = nn.CrossEntropyLoss()\n",
    "optimizer = torch.optim.Adam(pretrained.parameters(), lr=0.0001)\n",
    "from sklearn.metrics import f1_score,classification_report\n",
    "epochs = 30\n",
    "losses = []\n",
    "f1_list = []\n",
    "for t in range(epochs):\n",
    "    torch.manual_seed(t)\n",
    "    print(f\"Epoch {t+1}\\n-------------------------------\")\n",
    "    train_loop(train_dataloader, pretrained, loss_fn, optimizer)\n",
    "    test_loop(test_dataloader, pretrained, loss_fn)\n",
    "print(\"Done!\")"
   ]
  },
  {
   "cell_type": "code",
   "execution_count": null,
   "id": "58190d4b",
   "metadata": {
    "ExecuteTime": {
     "start_time": "2022-07-31T16:07:31.773Z"
    }
   },
   "outputs": [],
   "source": [
    "max(f1_list)"
   ]
  },
  {
   "cell_type": "markdown",
   "id": "4139916f",
   "metadata": {},
   "source": [
    "# metric learning"
   ]
  },
  {
   "cell_type": "markdown",
   "id": "90b31bea",
   "metadata": {},
   "source": [
    "Siamese neural network with triplet loss function"
   ]
  },
  {
   "cell_type": "code",
   "execution_count": 9,
   "id": "b3ea1408",
   "metadata": {
    "ExecuteTime": {
     "end_time": "2022-08-03T14:24:10.548822Z",
     "start_time": "2022-08-03T14:24:09.014011Z"
    }
   },
   "outputs": [
    {
     "name": "stderr",
     "output_type": "stream",
     "text": [
      "/home/pturova/pytorch_venv/lib/python3.7/site-packages/tqdm/auto.py:22: TqdmWarning: IProgress not found. Please update jupyter and ipywidgets. See https://ipywidgets.readthedocs.io/en/stable/user_install.html\n",
      "  from .autonotebook import tqdm as notebook_tqdm\n"
     ]
    }
   ],
   "source": [
    "import torch\n",
    "import torch.nn as nn\n",
    "import torch.nn.functional as F\n",
    "import torch.utils.data as utils\n",
    "import torchvision.transforms as transforms\n",
    "from torch.utils.data import DataLoader, Dataset\n",
    "#import matplotlib.pyplot as plt\n",
    "import torchvision.utils\n",
    "import torchvision\n",
    "from torchvision import models\n",
    "torch.manual_seed(42)\n",
    "from pytorch_metric_learning import miners, distances, reducers, testers, samplers\n",
    "from pytorch_metric_learning.utils.accuracy_calculator import AccuracyCalculator\n",
    "from pytorch_metric_learning.losses import TripletMarginLoss"
   ]
  },
  {
   "cell_type": "markdown",
   "id": "5659778b",
   "metadata": {},
   "source": [
    "## no augmentation"
   ]
  },
  {
   "cell_type": "code",
   "execution_count": null,
   "id": "781caabf",
   "metadata": {
    "ExecuteTime": {
     "start_time": "2022-07-31T16:18:22.974Z"
    },
    "scrolled": true
   },
   "outputs": [],
   "source": [
    "pretrained = models.resnet18(pretrained=True)\n",
    "from torch.nn import  Linear\n",
    "pretrained.fc = Linear(in_features=512, out_features=32, bias=True)"
   ]
  },
  {
   "cell_type": "code",
   "execution_count": null,
   "id": "a86f6fb7",
   "metadata": {
    "ExecuteTime": {
     "start_time": "2022-07-31T16:18:23.599Z"
    }
   },
   "outputs": [],
   "source": [
    "X_train_NN = X_train[:,:,100:850]\n",
    "X_train_NN = np.expand_dims(X_train_NN, axis=1)\n",
    "X_train_NN = np.repeat(X_train_NN, 3, axis=1)\n",
    "X_test_NN = X_test[:,:,100:850]\n",
    "X_test_NN = np.expand_dims(X_test_NN, axis=1)\n",
    "X_test_NN = np.repeat(X_test_NN, 3, axis=1)"
   ]
  },
  {
   "cell_type": "code",
   "execution_count": 14,
   "id": "d552036c",
   "metadata": {
    "ExecuteTime": {
     "end_time": "2022-07-30T22:34:04.056957Z",
     "start_time": "2022-07-30T22:34:03.873806Z"
    }
   },
   "outputs": [],
   "source": [
    "from torch.utils.data import TensorDataset, DataLoader,WeightedRandomSampler\n",
    "from pytorch_metric_learning import samplers\n",
    "from sklearn.model_selection import train_test_split\n",
    "\n",
    "tensor_x = torch.Tensor(X_train_NN) # transform to torch tensor\n",
    "trans = transforms.Compose([transforms.Normalize((0.485, 0.456, 0.406), (0.229, 0.224, 0.225))])\n",
    "tensor_x = trans(tensor_x)\n",
    "\n",
    "#(unique, counts) = np.unique(y_train, return_counts=True)\n",
    "#class_weights = 1./torch.tensor(counts, dtype=torch.float) \n",
    "#class_weights_all = class_weights[y_train]\n",
    "#weighted_sampler = WeightedRandomSampler(\n",
    "#    weights=class_weights_all,\n",
    "#    num_samples=len(class_weights_all),\n",
    "#    replacement=True)\n",
    "weighted_sampler = samplers.MPerClassSampler(\n",
    "    y_train, m=2, length_before_new_iter=len(X_train_NN)\n",
    ")\n",
    "tensor_y = torch.Tensor(y_train[:])\n",
    "tensor_y = tensor_y.type(torch.LongTensor)\n",
    "\n",
    "training_data = TensorDataset(tensor_x,tensor_y)\n",
    "\n",
    "tensor_x = torch.Tensor(X_test_NN) # transform to torch tensor\n",
    " \n",
    "tensor_x = trans(tensor_x)\n",
    "tensor_y = torch.Tensor(y_test[:])\n",
    "tensor_y = tensor_y.type(torch.LongTensor)\n",
    "\n",
    "test_data = TensorDataset(tensor_x,tensor_y)\n",
    "\n",
    "train_dataloader = DataLoader(training_data, batch_size=8,sampler=weighted_sampler)\n",
    "test_dataloader = DataLoader(test_data, batch_size=8)"
   ]
  },
  {
   "cell_type": "code",
   "execution_count": 15,
   "id": "5e13f4b0",
   "metadata": {
    "ExecuteTime": {
     "end_time": "2022-07-30T22:34:11.738214Z",
     "start_time": "2022-07-30T22:34:11.720543Z"
    }
   },
   "outputs": [],
   "source": [
    "### MNIST code originally from https://github.com/pytorch/examples/blob/master/mnist/main.py ###\n",
    "losses_list = []\n",
    "def train(model, loss_func, mining_func, train_loader, optimizer, epoch):\n",
    "    model.train()\n",
    "    batch_losses = []\n",
    "    for batch_idx, (data, labels) in enumerate(train_loader):\n",
    "        optimizer.zero_grad()\n",
    "        embeddings = model(data)\n",
    "        indices_tuple = mining_func(embeddings, labels)\n",
    "        loss = loss_func(embeddings, labels, indices_tuple)\n",
    "        batch_losses.append(loss)\n",
    "        #print (loss_func.reducer.triplets_past_filter)\n",
    "        loss.backward()\n",
    "        optimizer.step()\n",
    "        if batch_idx % 2 == 0:\n",
    "            print(\n",
    "                \"Epoch {} Iteration {}: Loss = {}, Number of mined triplets = {}\".format(\n",
    "                    epoch, batch_idx, loss, mining_func.num_triplets\n",
    "                )\n",
    "            )\n",
    "    losses_list.append(sum(batch_losses)/len(batch_losses))\n",
    "\n",
    "\n",
    "### convenient function from pytorch-metric-learning ###\n",
    "def get_all_embeddings(dataset, model):\n",
    "    tester = testers.BaseTester()\n",
    "    return tester.get_all_embeddings(dataset, model)\n",
    "\n",
    "Precision = []\n",
    "f1_list = []\n",
    "### compute accuracy using AccuracyCalculator from pytorch-metric-learning ###\n",
    "def test(train_set, test_set, model, accuracy_calculator):\n",
    "    train_embeddings, train_labels = get_all_embeddings(train_set, model)\n",
    "    test_embeddings, test_labels = get_all_embeddings(test_set, model)\n",
    "    train_labels = train_labels.squeeze(1)\n",
    "    test_labels = test_labels.squeeze(1)\n",
    "\n",
    "    #with torch.no_grad():\n",
    "    #    for X, y in test_dataloader:\n",
    "    #        pred = model(X)\n",
    "    #        print (pred.shape)\n",
    "    #        print (pred)\n",
    "    #        _, preds = torch.max(pred, 1)\n",
    "    #        f1 = round(f1_score(y.cpu().detach().numpy(), preds.cpu().detach().numpy(), average='weighted')*100,1)\n",
    "    #print ('f1',f1)\n",
    "    print(\"Computing accuracy\")\n",
    "    accuracies, labels_pred = accuracy_calculator.get_accuracy(\n",
    "        test_embeddings, train_embeddings, test_labels, train_labels, False\n",
    "    )\n",
    "    print(\"Test set accuracy (Precision@1) = {}\".format(accuracies[\"precision_at_1\"]))\n",
    "    print (round(f1_score(test_labels, labels_pred, average='weighted')*100,1))\n",
    "    Precision.append(accuracies[\"precision_at_1\"])\n",
    "    f1_list.append(round(f1_score(test_labels, labels_pred, average='weighted')*100,1))\n"
   ]
  },
  {
   "cell_type": "code",
   "execution_count": 16,
   "id": "26808451",
   "metadata": {
    "ExecuteTime": {
     "end_time": "2022-07-30T22:34:34.453361Z",
     "start_time": "2022-07-30T22:34:34.443530Z"
    }
   },
   "outputs": [],
   "source": [
    "### pytorch-metric-learning stuff ###\n",
    "distance = distances.CosineSimilarity()\n",
    "reducer = reducers.ThresholdReducer(low=0)\n",
    "loss_func = TripletMarginLoss(margin=0.700867565160616, distance=distance, reducer=reducer)\n",
    "mining_func = miners.TripletMarginMiner(\n",
    "    margin=0.219920448107944, distance=distance, type_of_triplets='hard'\n",
    ")\n",
    "accuracy_calculator = AccuracyCalculator(include=(\"precision_at_1\",), k=\"max_bin_count\")\n",
    "### pytorch-metric-learning stuff ###"
   ]
  },
  {
   "cell_type": "code",
   "execution_count": 17,
   "id": "04086476",
   "metadata": {
    "ExecuteTime": {
     "end_time": "2022-07-30T22:34:37.352710Z",
     "start_time": "2022-07-30T22:34:37.344309Z"
    }
   },
   "outputs": [],
   "source": [
    "import torch.optim as optim\n",
    "from sklearn.metrics import f1_score\n",
    "#my_extended_model = MyResNet(my_pretrained_model=pretrained).to(device)\n",
    "optimizer = optim.Adam(pretrained.parameters(), lr=0.0001)\n",
    "num_epochs = 20"
   ]
  },
  {
   "cell_type": "code",
   "execution_count": 18,
   "id": "dbfbdbd5",
   "metadata": {
    "ExecuteTime": {
     "end_time": "2022-07-30T22:57:12.562561Z",
     "start_time": "2022-07-30T22:34:38.195072Z"
    }
   },
   "outputs": [
    {
     "name": "stdout",
     "output_type": "stream",
     "text": [
      "Epoch 1 Iteration 0: Loss = 0.7202500700950623, Number of mined triplets = 22\n",
      "Epoch 1 Iteration 2: Loss = 0.7089419960975647, Number of mined triplets = 18\n",
      "Epoch 1 Iteration 4: Loss = 0.7180850505828857, Number of mined triplets = 26\n",
      "Epoch 1 Iteration 6: Loss = 0.7112789154052734, Number of mined triplets = 14\n",
      "Epoch 1 Iteration 8: Loss = 0.7054290175437927, Number of mined triplets = 13\n",
      "Epoch 1 Iteration 10: Loss = 0.7136299014091492, Number of mined triplets = 9\n",
      "Epoch 1 Iteration 12: Loss = 0.7029235363006592, Number of mined triplets = 11\n",
      "Epoch 1 Iteration 14: Loss = 0.7061987519264221, Number of mined triplets = 9\n"
     ]
    },
    {
     "name": "stderr",
     "output_type": "stream",
     "text": [
      "100%|██████████| 5/5 [00:16<00:00,  3.29s/it]\n",
      "100%|██████████| 2/2 [00:07<00:00,  3.84s/it]\n"
     ]
    },
    {
     "name": "stdout",
     "output_type": "stream",
     "text": [
      "Computing accuracy\n",
      "Test set accuracy (Precision@1) = 0.7017543859649122\n",
      "70.3\n",
      "Epoch 2 Iteration 0: Loss = 0.7033206224441528, Number of mined triplets = 8\n",
      "Epoch 2 Iteration 2: Loss = 0.7028709650039673, Number of mined triplets = 7\n",
      "Epoch 2 Iteration 4: Loss = 0.7025783061981201, Number of mined triplets = 11\n",
      "Epoch 2 Iteration 6: Loss = 0.7033386826515198, Number of mined triplets = 11\n",
      "Epoch 2 Iteration 8: Loss = 0.704816460609436, Number of mined triplets = 8\n",
      "Epoch 2 Iteration 10: Loss = 0.0, Number of mined triplets = 0\n",
      "Epoch 2 Iteration 12: Loss = 0.7018070816993713, Number of mined triplets = 7\n",
      "Epoch 2 Iteration 14: Loss = 0.7033156752586365, Number of mined triplets = 12\n"
     ]
    },
    {
     "name": "stderr",
     "output_type": "stream",
     "text": [
      "100%|██████████| 5/5 [00:16<00:00,  3.27s/it]\n",
      "100%|██████████| 2/2 [00:07<00:00,  3.86s/it]\n"
     ]
    },
    {
     "name": "stdout",
     "output_type": "stream",
     "text": [
      "Computing accuracy\n",
      "Test set accuracy (Precision@1) = 0.5614035087719298\n",
      "57.6\n",
      "Epoch 3 Iteration 0: Loss = 0.7015357613563538, Number of mined triplets = 4\n",
      "Epoch 3 Iteration 2: Loss = 0.7020817399024963, Number of mined triplets = 9\n",
      "Epoch 3 Iteration 4: Loss = 0.7013018131256104, Number of mined triplets = 2\n",
      "Epoch 3 Iteration 6: Loss = 0.7027122974395752, Number of mined triplets = 18\n",
      "Epoch 3 Iteration 8: Loss = 0.7023336291313171, Number of mined triplets = 8\n",
      "Epoch 3 Iteration 10: Loss = 0.7021251916885376, Number of mined triplets = 14\n",
      "Epoch 3 Iteration 12: Loss = 0.7014239430427551, Number of mined triplets = 2\n",
      "Epoch 3 Iteration 14: Loss = 0.7013859152793884, Number of mined triplets = 6\n"
     ]
    },
    {
     "name": "stderr",
     "output_type": "stream",
     "text": [
      "100%|██████████| 5/5 [00:16<00:00,  3.28s/it]\n",
      "100%|██████████| 2/2 [00:07<00:00,  3.84s/it]\n"
     ]
    },
    {
     "name": "stdout",
     "output_type": "stream",
     "text": [
      "Computing accuracy\n",
      "Test set accuracy (Precision@1) = 0.6140350877192983\n",
      "62.8\n",
      "Epoch 4 Iteration 0: Loss = 0.7013115882873535, Number of mined triplets = 9\n",
      "Epoch 4 Iteration 2: Loss = 0.7019286751747131, Number of mined triplets = 11\n",
      "Epoch 4 Iteration 4: Loss = 0.7015565037727356, Number of mined triplets = 4\n",
      "Epoch 4 Iteration 6: Loss = 0.7017122507095337, Number of mined triplets = 4\n",
      "Epoch 4 Iteration 8: Loss = 0.7014864683151245, Number of mined triplets = 4\n",
      "Epoch 4 Iteration 10: Loss = 0.7011083960533142, Number of mined triplets = 8\n",
      "Epoch 4 Iteration 12: Loss = 0.7010182738304138, Number of mined triplets = 2\n",
      "Epoch 4 Iteration 14: Loss = 0.7012210488319397, Number of mined triplets = 1\n"
     ]
    },
    {
     "name": "stderr",
     "output_type": "stream",
     "text": [
      "100%|██████████| 5/5 [00:16<00:00,  3.36s/it]\n",
      "100%|██████████| 2/2 [00:07<00:00,  3.98s/it]\n"
     ]
    },
    {
     "name": "stdout",
     "output_type": "stream",
     "text": [
      "Computing accuracy\n",
      "Test set accuracy (Precision@1) = 0.6666666666666666\n",
      "67.0\n",
      "Epoch 5 Iteration 0: Loss = 0.7010831832885742, Number of mined triplets = 6\n",
      "Epoch 5 Iteration 2: Loss = 0.7009569406509399, Number of mined triplets = 1\n",
      "Epoch 5 Iteration 4: Loss = 0.701494574546814, Number of mined triplets = 5\n",
      "Epoch 5 Iteration 6: Loss = 0.7011103630065918, Number of mined triplets = 2\n",
      "Epoch 5 Iteration 8: Loss = 0.7011115550994873, Number of mined triplets = 2\n",
      "Epoch 5 Iteration 10: Loss = 0.7011175751686096, Number of mined triplets = 6\n",
      "Epoch 5 Iteration 12: Loss = 0.7016258239746094, Number of mined triplets = 12\n",
      "Epoch 5 Iteration 14: Loss = 0.7014777660369873, Number of mined triplets = 4\n"
     ]
    },
    {
     "name": "stderr",
     "output_type": "stream",
     "text": [
      "100%|██████████| 5/5 [00:16<00:00,  3.35s/it]\n",
      "100%|██████████| 2/2 [00:07<00:00,  3.96s/it]\n"
     ]
    },
    {
     "name": "stdout",
     "output_type": "stream",
     "text": [
      "Computing accuracy\n",
      "Test set accuracy (Precision@1) = 0.6491228070175439\n",
      "65.8\n",
      "Epoch 6 Iteration 0: Loss = 0.7010291814804077, Number of mined triplets = 4\n",
      "Epoch 6 Iteration 2: Loss = 0.7014210820198059, Number of mined triplets = 8\n",
      "Epoch 6 Iteration 4: Loss = 0.701444685459137, Number of mined triplets = 11\n",
      "Epoch 6 Iteration 6: Loss = 0.7013351321220398, Number of mined triplets = 9\n",
      "Epoch 6 Iteration 8: Loss = 0.7009444236755371, Number of mined triplets = 3\n",
      "Epoch 6 Iteration 10: Loss = 0.7019938230514526, Number of mined triplets = 10\n",
      "Epoch 6 Iteration 12: Loss = 0.7010547518730164, Number of mined triplets = 1\n",
      "Epoch 6 Iteration 14: Loss = 0.7015718817710876, Number of mined triplets = 5\n"
     ]
    },
    {
     "name": "stderr",
     "output_type": "stream",
     "text": [
      "100%|██████████| 5/5 [00:16<00:00,  3.27s/it]\n",
      "100%|██████████| 2/2 [00:07<00:00,  3.92s/it]\n"
     ]
    },
    {
     "name": "stdout",
     "output_type": "stream",
     "text": [
      "Computing accuracy\n",
      "Test set accuracy (Precision@1) = 0.6140350877192983\n",
      "61.5\n",
      "Epoch 7 Iteration 0: Loss = 0.7011834979057312, Number of mined triplets = 7\n",
      "Epoch 7 Iteration 2: Loss = 0.703932523727417, Number of mined triplets = 11\n",
      "Epoch 7 Iteration 4: Loss = 0.7008703351020813, Number of mined triplets = 1\n",
      "Epoch 7 Iteration 6: Loss = 0.7013715505599976, Number of mined triplets = 8\n",
      "Epoch 7 Iteration 8: Loss = 0.7010094523429871, Number of mined triplets = 1\n",
      "Epoch 7 Iteration 10: Loss = 0.7011893391609192, Number of mined triplets = 3\n",
      "Epoch 7 Iteration 12: Loss = 0.7010154128074646, Number of mined triplets = 1\n",
      "Epoch 7 Iteration 14: Loss = 0.0, Number of mined triplets = 0\n"
     ]
    },
    {
     "name": "stderr",
     "output_type": "stream",
     "text": [
      "100%|██████████| 5/5 [00:16<00:00,  3.34s/it]\n",
      "100%|██████████| 2/2 [00:08<00:00,  4.12s/it]\n"
     ]
    },
    {
     "name": "stdout",
     "output_type": "stream",
     "text": [
      "Computing accuracy\n",
      "Test set accuracy (Precision@1) = 0.5614035087719298\n",
      "57.3\n",
      "Epoch 8 Iteration 0: Loss = 0.7011226415634155, Number of mined triplets = 5\n",
      "Epoch 8 Iteration 2: Loss = 0.701051652431488, Number of mined triplets = 3\n",
      "Epoch 8 Iteration 4: Loss = 0.7015562057495117, Number of mined triplets = 12\n",
      "Epoch 8 Iteration 6: Loss = 0.7012025713920593, Number of mined triplets = 3\n",
      "Epoch 8 Iteration 8: Loss = 0.0, Number of mined triplets = 0\n",
      "Epoch 8 Iteration 10: Loss = 0.7009202241897583, Number of mined triplets = 1\n",
      "Epoch 8 Iteration 12: Loss = 0.7009944319725037, Number of mined triplets = 3\n",
      "Epoch 8 Iteration 14: Loss = 0.7012993097305298, Number of mined triplets = 7\n"
     ]
    },
    {
     "name": "stderr",
     "output_type": "stream",
     "text": [
      "100%|██████████| 5/5 [00:16<00:00,  3.37s/it]\n",
      "100%|██████████| 2/2 [00:08<00:00,  4.15s/it]\n"
     ]
    },
    {
     "name": "stdout",
     "output_type": "stream",
     "text": [
      "Computing accuracy\n",
      "Test set accuracy (Precision@1) = 0.6140350877192983\n",
      "61.7\n",
      "Epoch 9 Iteration 0: Loss = 0.7010919451713562, Number of mined triplets = 7\n",
      "Epoch 9 Iteration 2: Loss = 0.701157808303833, Number of mined triplets = 9\n",
      "Epoch 9 Iteration 4: Loss = 0.7012251615524292, Number of mined triplets = 11\n",
      "Epoch 9 Iteration 6: Loss = 0.0, Number of mined triplets = 0\n",
      "Epoch 9 Iteration 8: Loss = 0.0, Number of mined triplets = 0\n",
      "Epoch 9 Iteration 10: Loss = 0.7009439468383789, Number of mined triplets = 3\n",
      "Epoch 9 Iteration 12: Loss = 0.0, Number of mined triplets = 0\n",
      "Epoch 9 Iteration 14: Loss = 0.7011323571205139, Number of mined triplets = 9\n"
     ]
    },
    {
     "name": "stderr",
     "output_type": "stream",
     "text": [
      "100%|██████████| 5/5 [00:16<00:00,  3.39s/it]\n",
      "100%|██████████| 2/2 [00:08<00:00,  4.04s/it]\n"
     ]
    },
    {
     "name": "stdout",
     "output_type": "stream",
     "text": [
      "Computing accuracy\n",
      "Test set accuracy (Precision@1) = 0.6140350877192983\n",
      "61.9\n",
      "Epoch 10 Iteration 0: Loss = 0.7018038630485535, Number of mined triplets = 13\n",
      "Epoch 10 Iteration 2: Loss = 0.7012515068054199, Number of mined triplets = 8\n",
      "Epoch 10 Iteration 4: Loss = 0.7012271285057068, Number of mined triplets = 6\n",
      "Epoch 10 Iteration 6: Loss = 0.7010767459869385, Number of mined triplets = 9\n",
      "Epoch 10 Iteration 8: Loss = 0.7008854746818542, Number of mined triplets = 3\n",
      "Epoch 10 Iteration 10: Loss = 0.7009215354919434, Number of mined triplets = 3\n",
      "Epoch 10 Iteration 12: Loss = 0.7011173963546753, Number of mined triplets = 7\n",
      "Epoch 10 Iteration 14: Loss = 0.7011355757713318, Number of mined triplets = 13\n"
     ]
    },
    {
     "name": "stderr",
     "output_type": "stream",
     "text": [
      "100%|██████████| 5/5 [00:16<00:00,  3.35s/it]\n",
      "100%|██████████| 2/2 [00:08<00:00,  4.07s/it]\n"
     ]
    },
    {
     "name": "stdout",
     "output_type": "stream",
     "text": [
      "Computing accuracy\n",
      "Test set accuracy (Precision@1) = 0.6140350877192983\n",
      "62.0\n",
      "Epoch 11 Iteration 0: Loss = 0.7012033462524414, Number of mined triplets = 2\n",
      "Epoch 11 Iteration 2: Loss = 0.701856791973114, Number of mined triplets = 2\n",
      "Epoch 11 Iteration 4: Loss = 0.7009350657463074, Number of mined triplets = 3\n",
      "Epoch 11 Iteration 6: Loss = 0.7010638117790222, Number of mined triplets = 6\n",
      "Epoch 11 Iteration 8: Loss = 0.7010419964790344, Number of mined triplets = 6\n",
      "Epoch 11 Iteration 10: Loss = 0.7009563446044922, Number of mined triplets = 4\n",
      "Epoch 11 Iteration 12: Loss = 0.0, Number of mined triplets = 0\n",
      "Epoch 11 Iteration 14: Loss = 0.7012407183647156, Number of mined triplets = 8\n"
     ]
    },
    {
     "name": "stderr",
     "output_type": "stream",
     "text": [
      "100%|██████████| 5/5 [00:16<00:00,  3.32s/it]\n",
      "100%|██████████| 2/2 [00:08<00:00,  4.17s/it]\n"
     ]
    },
    {
     "name": "stdout",
     "output_type": "stream",
     "text": [
      "Computing accuracy\n",
      "Test set accuracy (Precision@1) = 0.6491228070175439\n",
      "65.8\n",
      "Epoch 12 Iteration 0: Loss = 0.0, Number of mined triplets = 0\n",
      "Epoch 12 Iteration 2: Loss = 0.0, Number of mined triplets = 0\n",
      "Epoch 12 Iteration 4: Loss = 0.7011410593986511, Number of mined triplets = 4\n",
      "Epoch 12 Iteration 6: Loss = 0.0, Number of mined triplets = 0\n",
      "Epoch 12 Iteration 8: Loss = 0.7009209990501404, Number of mined triplets = 1\n",
      "Epoch 12 Iteration 10: Loss = 0.7010042071342468, Number of mined triplets = 3\n",
      "Epoch 12 Iteration 12: Loss = 0.0, Number of mined triplets = 0\n",
      "Epoch 12 Iteration 14: Loss = 0.7011005878448486, Number of mined triplets = 4\n"
     ]
    },
    {
     "name": "stderr",
     "output_type": "stream",
     "text": [
      "100%|██████████| 5/5 [00:16<00:00,  3.38s/it]\n",
      "100%|██████████| 2/2 [00:08<00:00,  4.20s/it]\n"
     ]
    },
    {
     "name": "stdout",
     "output_type": "stream",
     "text": [
      "Computing accuracy\n",
      "Test set accuracy (Precision@1) = 0.6666666666666666\n",
      "67.5\n",
      "Epoch 13 Iteration 0: Loss = 0.7012218832969666, Number of mined triplets = 4\n",
      "Epoch 13 Iteration 2: Loss = 0.0, Number of mined triplets = 0\n",
      "Epoch 13 Iteration 4: Loss = 0.7009811997413635, Number of mined triplets = 6\n",
      "Epoch 13 Iteration 6: Loss = 0.7009274959564209, Number of mined triplets = 1\n",
      "Epoch 13 Iteration 8: Loss = 0.7008808255195618, Number of mined triplets = 1\n",
      "Epoch 13 Iteration 10: Loss = 0.0, Number of mined triplets = 0\n",
      "Epoch 13 Iteration 12: Loss = 0.0, Number of mined triplets = 0\n",
      "Epoch 13 Iteration 14: Loss = 0.0, Number of mined triplets = 0\n"
     ]
    },
    {
     "name": "stderr",
     "output_type": "stream",
     "text": [
      "100%|██████████| 5/5 [00:17<00:00,  3.49s/it]\n",
      "100%|██████████| 2/2 [00:08<00:00,  4.31s/it]\n"
     ]
    },
    {
     "name": "stdout",
     "output_type": "stream",
     "text": [
      "Computing accuracy\n",
      "Test set accuracy (Precision@1) = 0.6842105263157895\n",
      "68.5\n",
      "Epoch 14 Iteration 0: Loss = 0.0, Number of mined triplets = 0\n",
      "Epoch 14 Iteration 2: Loss = 0.0, Number of mined triplets = 0\n",
      "Epoch 14 Iteration 4: Loss = 0.7010518312454224, Number of mined triplets = 2\n",
      "Epoch 14 Iteration 6: Loss = 0.7009572386741638, Number of mined triplets = 3\n",
      "Epoch 14 Iteration 8: Loss = 0.0, Number of mined triplets = 0\n",
      "Epoch 14 Iteration 10: Loss = 0.7009067535400391, Number of mined triplets = 2\n",
      "Epoch 14 Iteration 12: Loss = 0.0, Number of mined triplets = 0\n",
      "Epoch 14 Iteration 14: Loss = 0.7010839581489563, Number of mined triplets = 6\n"
     ]
    },
    {
     "name": "stderr",
     "output_type": "stream",
     "text": [
      "100%|██████████| 5/5 [00:16<00:00,  3.40s/it]\n",
      "100%|██████████| 2/2 [00:08<00:00,  4.20s/it]\n"
     ]
    },
    {
     "name": "stdout",
     "output_type": "stream",
     "text": [
      "Computing accuracy\n",
      "Test set accuracy (Precision@1) = 0.7017543859649122\n",
      "70.2\n",
      "Epoch 15 Iteration 0: Loss = 0.0, Number of mined triplets = 0\n",
      "Epoch 15 Iteration 2: Loss = 0.0, Number of mined triplets = 0\n",
      "Epoch 15 Iteration 4: Loss = 0.0, Number of mined triplets = 0\n",
      "Epoch 15 Iteration 6: Loss = 0.7008780241012573, Number of mined triplets = 1\n",
      "Epoch 15 Iteration 8: Loss = 0.7014307975769043, Number of mined triplets = 3\n",
      "Epoch 15 Iteration 10: Loss = 0.7008873820304871, Number of mined triplets = 1\n",
      "Epoch 15 Iteration 12: Loss = 0.0, Number of mined triplets = 0\n",
      "Epoch 15 Iteration 14: Loss = 0.701240599155426, Number of mined triplets = 4\n"
     ]
    },
    {
     "name": "stderr",
     "output_type": "stream",
     "text": [
      "100%|██████████| 5/5 [00:17<00:00,  3.42s/it]\n",
      "100%|██████████| 2/2 [00:08<00:00,  4.17s/it]\n"
     ]
    },
    {
     "name": "stdout",
     "output_type": "stream",
     "text": [
      "Computing accuracy\n",
      "Test set accuracy (Precision@1) = 0.7543859649122807\n",
      "75.4\n",
      "Epoch 16 Iteration 0: Loss = 0.0, Number of mined triplets = 0\n",
      "Epoch 16 Iteration 2: Loss = 0.7010233998298645, Number of mined triplets = 3\n",
      "Epoch 16 Iteration 4: Loss = 0.0, Number of mined triplets = 0\n",
      "Epoch 16 Iteration 6: Loss = 0.7009504437446594, Number of mined triplets = 4\n",
      "Epoch 16 Iteration 8: Loss = 0.0, Number of mined triplets = 0\n",
      "Epoch 16 Iteration 10: Loss = 0.7010499238967896, Number of mined triplets = 1\n",
      "Epoch 16 Iteration 12: Loss = 0.0, Number of mined triplets = 0\n",
      "Epoch 16 Iteration 14: Loss = 0.701103687286377, Number of mined triplets = 2\n"
     ]
    },
    {
     "name": "stderr",
     "output_type": "stream",
     "text": [
      "100%|██████████| 5/5 [00:17<00:00,  3.42s/it]\n",
      "100%|██████████| 2/2 [00:08<00:00,  4.24s/it]\n"
     ]
    },
    {
     "name": "stdout",
     "output_type": "stream",
     "text": [
      "Computing accuracy\n",
      "Test set accuracy (Precision@1) = 0.7192982456140351\n",
      "72.0\n",
      "Epoch 17 Iteration 0: Loss = 0.0, Number of mined triplets = 0\n",
      "Epoch 17 Iteration 2: Loss = 0.7011282444000244, Number of mined triplets = 5\n",
      "Epoch 17 Iteration 4: Loss = 0.0, Number of mined triplets = 0\n",
      "Epoch 17 Iteration 6: Loss = 0.0, Number of mined triplets = 0\n",
      "Epoch 17 Iteration 8: Loss = 0.0, Number of mined triplets = 0\n",
      "Epoch 17 Iteration 10: Loss = 0.7009612917900085, Number of mined triplets = 3\n",
      "Epoch 17 Iteration 12: Loss = 0.0, Number of mined triplets = 0\n",
      "Epoch 17 Iteration 14: Loss = 0.0, Number of mined triplets = 0\n"
     ]
    },
    {
     "name": "stderr",
     "output_type": "stream",
     "text": [
      "100%|██████████| 5/5 [00:17<00:00,  3.51s/it]\n",
      "100%|██████████| 2/2 [00:08<00:00,  4.30s/it]\n"
     ]
    },
    {
     "name": "stdout",
     "output_type": "stream",
     "text": [
      "Computing accuracy\n",
      "Test set accuracy (Precision@1) = 0.6491228070175439\n",
      "65.7\n",
      "Epoch 18 Iteration 0: Loss = 0.0, Number of mined triplets = 0\n",
      "Epoch 18 Iteration 2: Loss = 0.7009590268135071, Number of mined triplets = 3\n",
      "Epoch 18 Iteration 4: Loss = 0.7009358406066895, Number of mined triplets = 2\n",
      "Epoch 18 Iteration 6: Loss = 0.0, Number of mined triplets = 0\n",
      "Epoch 18 Iteration 8: Loss = 0.7009159922599792, Number of mined triplets = 2\n",
      "Epoch 18 Iteration 10: Loss = 0.7009409070014954, Number of mined triplets = 2\n",
      "Epoch 18 Iteration 12: Loss = 0.0, Number of mined triplets = 0\n",
      "Epoch 18 Iteration 14: Loss = 0.7011699676513672, Number of mined triplets = 2\n"
     ]
    },
    {
     "name": "stderr",
     "output_type": "stream",
     "text": [
      "100%|██████████| 5/5 [00:17<00:00,  3.41s/it]\n",
      "100%|██████████| 2/2 [00:08<00:00,  4.36s/it]\n"
     ]
    },
    {
     "name": "stdout",
     "output_type": "stream",
     "text": [
      "Computing accuracy\n",
      "Test set accuracy (Precision@1) = 0.7017543859649122\n",
      "70.8\n",
      "Epoch 19 Iteration 0: Loss = 0.701242208480835, Number of mined triplets = 2\n",
      "Epoch 19 Iteration 2: Loss = 0.0, Number of mined triplets = 0\n",
      "Epoch 19 Iteration 4: Loss = 0.0, Number of mined triplets = 0\n",
      "Epoch 19 Iteration 6: Loss = 0.7009286880493164, Number of mined triplets = 1\n",
      "Epoch 19 Iteration 8: Loss = 0.0, Number of mined triplets = 0\n",
      "Epoch 19 Iteration 10: Loss = 0.7009133696556091, Number of mined triplets = 1\n",
      "Epoch 19 Iteration 12: Loss = 0.0, Number of mined triplets = 0\n",
      "Epoch 19 Iteration 14: Loss = 0.0, Number of mined triplets = 0\n"
     ]
    },
    {
     "name": "stderr",
     "output_type": "stream",
     "text": [
      "100%|██████████| 5/5 [00:17<00:00,  3.46s/it]\n",
      "100%|██████████| 2/2 [00:08<00:00,  4.34s/it]\n"
     ]
    },
    {
     "name": "stdout",
     "output_type": "stream",
     "text": [
      "Computing accuracy\n",
      "Test set accuracy (Precision@1) = 0.7017543859649122\n",
      "70.3\n",
      "Epoch 20 Iteration 0: Loss = 0.7009305953979492, Number of mined triplets = 2\n",
      "Epoch 20 Iteration 2: Loss = 0.0, Number of mined triplets = 0\n",
      "Epoch 20 Iteration 4: Loss = 0.7010589838027954, Number of mined triplets = 2\n",
      "Epoch 20 Iteration 6: Loss = 0.0, Number of mined triplets = 0\n",
      "Epoch 20 Iteration 8: Loss = 0.0, Number of mined triplets = 0\n",
      "Epoch 20 Iteration 10: Loss = 0.0, Number of mined triplets = 0\n",
      "Epoch 20 Iteration 12: Loss = 0.0, Number of mined triplets = 0\n",
      "Epoch 20 Iteration 14: Loss = 0.0, Number of mined triplets = 0\n"
     ]
    },
    {
     "name": "stderr",
     "output_type": "stream",
     "text": [
      "100%|██████████| 5/5 [00:17<00:00,  3.44s/it]\n",
      "100%|██████████| 2/2 [00:08<00:00,  4.40s/it]"
     ]
    },
    {
     "name": "stdout",
     "output_type": "stream",
     "text": [
      "Computing accuracy\n",
      "Test set accuracy (Precision@1) = 0.6666666666666666\n",
      "66.5\n"
     ]
    },
    {
     "name": "stderr",
     "output_type": "stream",
     "text": [
      "\n"
     ]
    }
   ],
   "source": [
    "for epoch in range(1, num_epochs + 1):\n",
    "    train(pretrained, loss_func, mining_func, train_dataloader, optimizer, epoch)\n",
    "    test(training_data, test_data, pretrained, accuracy_calculator)"
   ]
  },
  {
   "cell_type": "code",
   "execution_count": null,
   "id": "57d4bed3",
   "metadata": {},
   "outputs": [],
   "source": [
    "from matplotlib import pyplot as plt\n",
    "fig, ax = plt.subplots(figsize=(10, 4))\n",
    "plt.plot(np.arange(1,21),r_precision)\n",
    "plt.xticks(np.arange(1,21))\n",
    "plt.title('r_precision')"
   ]
  },
  {
   "cell_type": "markdown",
   "id": "1d36b43f",
   "metadata": {},
   "source": [
    "## augmentation"
   ]
  },
  {
   "cell_type": "code",
   "execution_count": 29,
   "id": "337f539e",
   "metadata": {
    "ExecuteTime": {
     "end_time": "2022-08-03T05:23:56.393727Z",
     "start_time": "2022-08-03T05:23:56.384585Z"
    }
   },
   "outputs": [],
   "source": [
    "import torch\n",
    "import torch.nn as nn\n",
    "import torch.nn.functional as F\n",
    "import torch.utils.data as utils\n",
    "import torchvision.transforms as transforms\n",
    "from torch.utils.data import DataLoader, Dataset\n",
    "#import matplotlib.pyplot as plt\n",
    "import torchvision.utils\n",
    "import torchvision\n",
    "from torchvision import models\n",
    "torch.manual_seed(42)\n",
    "from pytorch_metric_learning import miners, distances, reducers, testers, samplers\n",
    "from pytorch_metric_learning.utils.accuracy_calculator import AccuracyCalculator\n",
    "from pytorch_metric_learning.losses import TripletMarginLoss"
   ]
  },
  {
   "cell_type": "code",
   "execution_count": 11,
   "id": "edda92b2",
   "metadata": {
    "ExecuteTime": {
     "end_time": "2022-08-03T14:25:05.836373Z",
     "start_time": "2022-08-03T14:25:05.802722Z"
    }
   },
   "outputs": [],
   "source": [
    "X_train_augmented = np.zeros((1,1))"
   ]
  },
  {
   "cell_type": "code",
   "execution_count": 10,
   "id": "20f92c45",
   "metadata": {
    "ExecuteTime": {
     "end_time": "2022-08-03T14:25:02.888932Z",
     "start_time": "2022-08-03T14:24:23.914092Z"
    }
   },
   "outputs": [],
   "source": [
    "X_train_NN = X_train_augmented[:,:,100:850]\n",
    "X_train_NN = np.expand_dims(X_train_NN, axis=1)\n",
    "X_train_NN = np.repeat(X_train_NN, 3, axis=1)\n",
    "X_test_NN = X_test[:,:,100:850]\n",
    "X_test_NN = np.expand_dims(X_test_NN, axis=1)\n",
    "X_test_NN = np.repeat(X_test_NN, 3, axis=1)"
   ]
  },
  {
   "cell_type": "code",
   "execution_count": 13,
   "id": "b8205560",
   "metadata": {
    "ExecuteTime": {
     "end_time": "2022-08-03T14:26:15.294270Z",
     "start_time": "2022-08-03T14:26:12.557535Z"
    }
   },
   "outputs": [],
   "source": [
    "from torch.utils.data import TensorDataset, DataLoader,WeightedRandomSampler\n",
    "\n",
    "from sklearn.model_selection import train_test_split\n",
    "\n",
    "tensor_x = torch.Tensor(X_train_NN) # transform to torch tensor\n",
    "trans = transforms.Compose([transforms.Normalize((0.485, 0.456, 0.406), (0.229, 0.224, 0.225))])\n",
    "tensor_x = trans(tensor_x)\n",
    "\n",
    "#(unique, counts) = np.unique(y_train, return_counts=True)\n",
    "#class_weights = 1./torch.tensor(counts, dtype=torch.float) \n",
    "#class_weights_all = class_weights[y_train_augmented]\n",
    "#weighted_sampler = WeightedRandomSampler(\n",
    "#    weights=class_weights_all,\n",
    "#    num_samples=len(class_weights_all),\n",
    "#    replacement=True)\n",
    "weighted_sampler = samplers.MPerClassSampler(\n",
    "    y_train_augmented, m=16, length_before_new_iter=len(X_train_NN)\n",
    ")\n",
    "\n",
    "tensor_y = torch.Tensor(y_train_augmented)\n",
    "tensor_y = tensor_y.type(torch.LongTensor)\n",
    "\n",
    "training_data = TensorDataset(tensor_x,tensor_y)\n",
    "\n",
    "tensor_x = torch.Tensor(X_test_NN) # transform to torch tensor\n",
    " \n",
    "tensor_x = trans(tensor_x)\n",
    "tensor_y = torch.Tensor(y_test[:])\n",
    "tensor_y = tensor_y.type(torch.LongTensor)\n",
    "\n",
    "test_data = TensorDataset(tensor_x,tensor_y)\n",
    "\n",
    "train_dataloader = DataLoader(training_data, batch_size=64)#,sampler=weighted_sampler)\n",
    "test_dataloader = DataLoader(test_data, batch_size=64)"
   ]
  },
  {
   "cell_type": "code",
   "execution_count": 14,
   "id": "4072254f",
   "metadata": {
    "ExecuteTime": {
     "end_time": "2022-08-03T14:26:31.309317Z",
     "start_time": "2022-08-03T14:26:31.288830Z"
    }
   },
   "outputs": [],
   "source": [
    "### MNIST code originally from https://github.com/pytorch/examples/blob/master/mnist/main.py ###\n",
    "losses_list = []\n",
    "def train(model, loss_func, mining_func, train_loader, optimizer, epoch):\n",
    "    model.train()\n",
    "    batch_losses = []\n",
    "    for batch_idx, (data, labels) in enumerate(train_loader):\n",
    "        optimizer.zero_grad()\n",
    "        embeddings = model(data)\n",
    "        indices_tuple = mining_func(embeddings, labels)\n",
    "        loss = loss_func(embeddings, labels, indices_tuple)\n",
    "        batch_losses.append(loss)\n",
    "        #print (loss_func.reducer.triplets_past_filter)\n",
    "        loss.backward()\n",
    "        optimizer.step()\n",
    "        if batch_idx % 2 == 0:\n",
    "            print(\n",
    "                \"Epoch {} Iteration {}: Loss = {}, Number of mined triplets = {}\".format(\n",
    "                    epoch, batch_idx, loss, mining_func.num_triplets\n",
    "                )\n",
    "            )\n",
    "    losses_list.append(sum(batch_losses)/len(batch_losses))\n",
    "\n",
    "\n",
    "### convenient function from pytorch-metric-learning ###\n",
    "def get_all_embeddings(dataset, model):\n",
    "    tester = testers.BaseTester()\n",
    "    return tester.get_all_embeddings(dataset, model)\n",
    "\n",
    "Precision = []\n",
    "f1_list = []\n",
    "### compute accuracy using AccuracyCalculator from pytorch-metric-learning ###\n",
    "def test(train_set, test_set, model, accuracy_calculator):\n",
    "    train_embeddings, train_labels = get_all_embeddings(train_set, model)\n",
    "    test_embeddings, test_labels = get_all_embeddings(test_set, model)\n",
    "    train_labels = train_labels.squeeze(1)\n",
    "    test_labels = test_labels.squeeze(1)\n",
    "\n",
    "    #with torch.no_grad():\n",
    "    #    for X, y in test_dataloader:\n",
    "    #        pred = model(X)\n",
    "    #        print (pred.shape)\n",
    "    #        print (pred)\n",
    "    #        _, preds = torch.max(pred, 1)\n",
    "    #        f1 = round(f1_score(y.cpu().detach().numpy(), preds.cpu().detach().numpy(), average='weighted')*100,1)\n",
    "    #print ('f1',f1)\n",
    "    print(\"Computing accuracy\")\n",
    "    accuracies, labels_pred = accuracy_calculator.get_accuracy(\n",
    "        test_embeddings, train_embeddings, test_labels, train_labels, False\n",
    "    )\n",
    "    print(\"Test set accuracy (Precision@1) = {}\".format(accuracies[\"precision_at_1\"]))\n",
    "    print (round(f1_score(test_labels, labels_pred, average='weighted')*100,1))\n",
    "    Precision.append(accuracies[\"precision_at_1\"])\n",
    "    f1_list.append(round(f1_score(test_labels, labels_pred, average='weighted')*100,1))\n",
    "    print(classification_report(test_labels, labels_pred, target_names=target_names))\n"
   ]
  },
  {
   "cell_type": "code",
   "execution_count": 15,
   "id": "d99ce4b6",
   "metadata": {
    "ExecuteTime": {
     "end_time": "2022-08-03T14:26:32.880579Z",
     "start_time": "2022-08-03T14:26:32.525649Z"
    }
   },
   "outputs": [
    {
     "name": "stderr",
     "output_type": "stream",
     "text": [
      "/home/pturova/pytorch_venv/lib/python3.7/site-packages/torchvision/models/_utils.py:209: UserWarning: The parameter 'pretrained' is deprecated since 0.13 and will be removed in 0.15, please use 'weights' instead.\n",
      "  f\"The parameter '{pretrained_param}' is deprecated since 0.13 and will be removed in 0.15, \"\n",
      "/home/pturova/pytorch_venv/lib/python3.7/site-packages/torchvision/models/_utils.py:223: UserWarning: Arguments other than a weight enum or `None` for 'weights' are deprecated since 0.13 and will be removed in 0.15. The current behavior is equivalent to passing `weights=ResNet18_Weights.IMAGENET1K_V1`. You can also use `weights=ResNet18_Weights.DEFAULT` to get the most up-to-date weights.\n",
      "  warnings.warn(msg)\n"
     ]
    }
   ],
   "source": [
    "pretrained = models.resnet18(pretrained=True)\n",
    "from torch.nn import  Linear\n",
    "pretrained.fc = Linear(in_features=512, out_features=32, bias=True)"
   ]
  },
  {
   "cell_type": "code",
   "execution_count": 16,
   "id": "1541682e",
   "metadata": {
    "ExecuteTime": {
     "end_time": "2022-08-03T14:26:35.752675Z",
     "start_time": "2022-08-03T14:26:35.741095Z"
    }
   },
   "outputs": [],
   "source": [
    "### pytorch-metric-learning stuff ###\n",
    "distance = distances.CosineSimilarity()\n",
    "reducer = reducers.ThresholdReducer(low=0)\n",
    "loss_func = TripletMarginLoss(margin=0.700867565160616, distance=distance, reducer=reducer)\n",
    "mining_func = miners.TripletMarginMiner(\n",
    "    margin=0.219920448107944, distance=distance, type_of_triplets='hard'\n",
    ")\n",
    "accuracy_calculator = AccuracyCalculator(include=(\"precision_at_1\",), k=\"max_bin_count\")\n",
    "### pytorch-metric-learning stuff ###"
   ]
  },
  {
   "cell_type": "code",
   "execution_count": 17,
   "id": "5e15435e",
   "metadata": {
    "ExecuteTime": {
     "end_time": "2022-08-03T14:26:38.166837Z",
     "start_time": "2022-08-03T14:26:38.159653Z"
    }
   },
   "outputs": [],
   "source": [
    "import torch.optim as optim\n",
    "from sklearn.metrics import f1_score,classification_report\n",
    "#my_extended_model = MyResNet(my_pretrained_model=pretrained).to(device)\n",
    "optimizer = optim.Adam(pretrained.parameters(), lr=0.0001)\n",
    "num_epochs = 20"
   ]
  },
  {
   "cell_type": "code",
   "execution_count": 36,
   "id": "830c91da",
   "metadata": {
    "ExecuteTime": {
     "end_time": "2022-08-03T08:50:44.952222Z",
     "start_time": "2022-08-03T05:25:08.508438Z"
    }
   },
   "outputs": [
    {
     "name": "stdout",
     "output_type": "stream",
     "text": [
      "Epoch 1 Iteration 0: Loss = 0.7308388948440552, Number of mined triplets = 19413\n",
      "Epoch 1 Iteration 2: Loss = 0.7099201083183289, Number of mined triplets = 14467\n",
      "Epoch 1 Iteration 4: Loss = 0.7057508826255798, Number of mined triplets = 7377\n",
      "Epoch 1 Iteration 6: Loss = 0.7038036584854126, Number of mined triplets = 10904\n",
      "Epoch 1 Iteration 8: Loss = 0.7032976150512695, Number of mined triplets = 8244\n",
      "Epoch 1 Iteration 10: Loss = 0.7028611302375793, Number of mined triplets = 7981\n",
      "Epoch 1 Iteration 12: Loss = 0.7025142312049866, Number of mined triplets = 6646\n",
      "Epoch 1 Iteration 14: Loss = 0.7018592953681946, Number of mined triplets = 5636\n",
      "Epoch 1 Iteration 16: Loss = 0.7014543414115906, Number of mined triplets = 4628\n",
      "Epoch 1 Iteration 18: Loss = 0.7016057372093201, Number of mined triplets = 4439\n",
      "Epoch 1 Iteration 20: Loss = 0.7015233039855957, Number of mined triplets = 5\n"
     ]
    },
    {
     "name": "stderr",
     "output_type": "stream",
     "text": [
      "100%|██████████| 41/41 [02:39<00:00,  3.90s/it]\n",
      "100%|██████████| 2/2 [00:08<00:00,  4.32s/it]\n"
     ]
    },
    {
     "name": "stdout",
     "output_type": "stream",
     "text": [
      "Computing accuracy\n",
      "Test set accuracy (Precision@1) = 0.5789473684210527\n",
      "58.7\n",
      "              precision    recall  f1-score   support\n",
      "\n",
      "       roots       0.56      0.42      0.48        12\n",
      "       stems       0.55      0.50      0.52        12\n",
      "      leaves       0.88      0.78      0.82        18\n",
      "      fruits       0.38      0.53      0.44        15\n",
      "\n",
      "    accuracy                           0.58        57\n",
      "   macro avg       0.59      0.56      0.57        57\n",
      "weighted avg       0.61      0.58      0.59        57\n",
      "\n",
      "Epoch 2 Iteration 0: Loss = 0.7015542387962341, Number of mined triplets = 2526\n",
      "Epoch 2 Iteration 2: Loss = 0.7014564275741577, Number of mined triplets = 4668\n",
      "Epoch 2 Iteration 4: Loss = 0.7013753652572632, Number of mined triplets = 2518\n",
      "Epoch 2 Iteration 6: Loss = 0.7011274099349976, Number of mined triplets = 1977\n",
      "Epoch 2 Iteration 8: Loss = 0.7013270258903503, Number of mined triplets = 1569\n",
      "Epoch 2 Iteration 10: Loss = 0.7012470960617065, Number of mined triplets = 3094\n",
      "Epoch 2 Iteration 12: Loss = 0.7011845707893372, Number of mined triplets = 1469\n",
      "Epoch 2 Iteration 14: Loss = 0.7012061476707458, Number of mined triplets = 2299\n",
      "Epoch 2 Iteration 16: Loss = 0.7010818719863892, Number of mined triplets = 1682\n",
      "Epoch 2 Iteration 18: Loss = 0.7010810375213623, Number of mined triplets = 1138\n",
      "Epoch 2 Iteration 20: Loss = 0.701494574546814, Number of mined triplets = 2\n"
     ]
    },
    {
     "name": "stderr",
     "output_type": "stream",
     "text": [
      "100%|██████████| 41/41 [02:37<00:00,  3.85s/it]\n",
      "100%|██████████| 2/2 [00:08<00:00,  4.29s/it]\n"
     ]
    },
    {
     "name": "stdout",
     "output_type": "stream",
     "text": [
      "Computing accuracy\n",
      "Test set accuracy (Precision@1) = 0.631578947368421\n",
      "64.2\n",
      "              precision    recall  f1-score   support\n",
      "\n",
      "       roots       0.40      0.33      0.36        12\n",
      "       stems       0.75      0.75      0.75        12\n",
      "      leaves       1.00      0.78      0.88        18\n",
      "      fruits       0.43      0.60      0.50        15\n",
      "\n",
      "    accuracy                           0.63        57\n",
      "   macro avg       0.64      0.62      0.62        57\n",
      "weighted avg       0.67      0.63      0.64        57\n",
      "\n",
      "Epoch 3 Iteration 0: Loss = 0.7012539505958557, Number of mined triplets = 1061\n",
      "Epoch 3 Iteration 2: Loss = 0.7011310458183289, Number of mined triplets = 1823\n",
      "Epoch 3 Iteration 4: Loss = 0.701093316078186, Number of mined triplets = 626\n",
      "Epoch 3 Iteration 6: Loss = 0.7010195255279541, Number of mined triplets = 744\n",
      "Epoch 3 Iteration 8: Loss = 0.7012326717376709, Number of mined triplets = 1112\n",
      "Epoch 3 Iteration 10: Loss = 0.7011330723762512, Number of mined triplets = 1472\n",
      "Epoch 3 Iteration 12: Loss = 0.7012500166893005, Number of mined triplets = 1136\n",
      "Epoch 3 Iteration 14: Loss = 0.7011290788650513, Number of mined triplets = 1538\n",
      "Epoch 3 Iteration 16: Loss = 0.7010921835899353, Number of mined triplets = 1136\n",
      "Epoch 3 Iteration 18: Loss = 0.7010663747787476, Number of mined triplets = 535\n",
      "Epoch 3 Iteration 20: Loss = 0.701036810874939, Number of mined triplets = 4\n"
     ]
    },
    {
     "name": "stderr",
     "output_type": "stream",
     "text": [
      "100%|██████████| 41/41 [02:36<00:00,  3.82s/it]\n",
      "100%|██████████| 2/2 [00:08<00:00,  4.16s/it]\n"
     ]
    },
    {
     "name": "stdout",
     "output_type": "stream",
     "text": [
      "Computing accuracy\n",
      "Test set accuracy (Precision@1) = 0.6666666666666666\n",
      "68.1\n",
      "              precision    recall  f1-score   support\n",
      "\n",
      "       roots       0.64      0.58      0.61        12\n",
      "       stems       0.82      0.75      0.78        12\n",
      "      leaves       0.93      0.78      0.85        18\n",
      "      fruits       0.40      0.53      0.46        15\n",
      "\n",
      "    accuracy                           0.67        57\n",
      "   macro avg       0.70      0.66      0.67        57\n",
      "weighted avg       0.71      0.67      0.68        57\n",
      "\n",
      "Epoch 4 Iteration 0: Loss = 0.7010194063186646, Number of mined triplets = 223\n",
      "Epoch 4 Iteration 2: Loss = 0.7010793089866638, Number of mined triplets = 488\n",
      "Epoch 4 Iteration 4: Loss = 0.7009629011154175, Number of mined triplets = 131\n",
      "Epoch 4 Iteration 6: Loss = 0.7010188698768616, Number of mined triplets = 426\n",
      "Epoch 4 Iteration 8: Loss = 0.7011373043060303, Number of mined triplets = 456\n",
      "Epoch 4 Iteration 10: Loss = 0.7015148401260376, Number of mined triplets = 1487\n",
      "Epoch 4 Iteration 12: Loss = 0.7012450098991394, Number of mined triplets = 644\n",
      "Epoch 4 Iteration 14: Loss = 0.7011017799377441, Number of mined triplets = 652\n",
      "Epoch 4 Iteration 16: Loss = 0.7010271549224854, Number of mined triplets = 206\n",
      "Epoch 4 Iteration 18: Loss = 0.7010360956192017, Number of mined triplets = 20\n",
      "Epoch 4 Iteration 20: Loss = 0.0, Number of mined triplets = 0\n"
     ]
    },
    {
     "name": "stderr",
     "output_type": "stream",
     "text": [
      "100%|██████████| 41/41 [02:36<00:00,  3.83s/it]\n",
      "100%|██████████| 2/2 [00:08<00:00,  4.01s/it]\n"
     ]
    },
    {
     "name": "stdout",
     "output_type": "stream",
     "text": [
      "Computing accuracy\n",
      "Test set accuracy (Precision@1) = 0.7543859649122807\n",
      "76.1\n",
      "              precision    recall  f1-score   support\n",
      "\n",
      "       roots       0.73      0.92      0.81        12\n",
      "       stems       0.82      0.75      0.78        12\n",
      "      leaves       1.00      0.78      0.88        18\n",
      "      fruits       0.53      0.60      0.56        15\n",
      "\n",
      "    accuracy                           0.75        57\n",
      "   macro avg       0.77      0.76      0.76        57\n",
      "weighted avg       0.78      0.75      0.76        57\n",
      "\n",
      "Epoch 5 Iteration 0: Loss = 0.7009474039077759, Number of mined triplets = 57\n",
      "Epoch 5 Iteration 2: Loss = 0.7009791731834412, Number of mined triplets = 29\n",
      "Epoch 5 Iteration 4: Loss = 0.7010002136230469, Number of mined triplets = 1\n",
      "Epoch 5 Iteration 6: Loss = 0.7012536525726318, Number of mined triplets = 121\n",
      "Epoch 5 Iteration 8: Loss = 0.7010608911514282, Number of mined triplets = 593\n",
      "Epoch 5 Iteration 10: Loss = 0.7013452649116516, Number of mined triplets = 1037\n",
      "Epoch 5 Iteration 12: Loss = 0.7011718153953552, Number of mined triplets = 389\n",
      "Epoch 5 Iteration 14: Loss = 0.7010766267776489, Number of mined triplets = 155\n",
      "Epoch 5 Iteration 16: Loss = 0.7009614109992981, Number of mined triplets = 41\n",
      "Epoch 5 Iteration 18: Loss = 0.7009475827217102, Number of mined triplets = 2\n",
      "Epoch 5 Iteration 20: Loss = 0.0, Number of mined triplets = 0\n"
     ]
    },
    {
     "name": "stderr",
     "output_type": "stream",
     "text": [
      "100%|██████████| 41/41 [02:36<00:00,  3.83s/it]\n",
      "100%|██████████| 2/2 [00:08<00:00,  4.18s/it]\n"
     ]
    },
    {
     "name": "stdout",
     "output_type": "stream",
     "text": [
      "Computing accuracy\n",
      "Test set accuracy (Precision@1) = 0.6666666666666666\n",
      "68.4\n",
      "              precision    recall  f1-score   support\n",
      "\n",
      "       roots       0.58      0.58      0.58        12\n",
      "       stems       0.80      0.67      0.73        12\n",
      "      leaves       1.00      0.78      0.88        18\n",
      "      fruits       0.43      0.60      0.50        15\n",
      "\n",
      "    accuracy                           0.67        57\n",
      "   macro avg       0.70      0.66      0.67        57\n",
      "weighted avg       0.72      0.67      0.68        57\n",
      "\n",
      "Epoch 6 Iteration 0: Loss = 0.7010233998298645, Number of mined triplets = 28\n",
      "Epoch 6 Iteration 2: Loss = 0.7010018825531006, Number of mined triplets = 88\n",
      "Epoch 6 Iteration 4: Loss = 0.7010177969932556, Number of mined triplets = 41\n",
      "Epoch 6 Iteration 6: Loss = 0.7009370923042297, Number of mined triplets = 33\n",
      "Epoch 6 Iteration 8: Loss = 0.7010481357574463, Number of mined triplets = 202\n",
      "Epoch 6 Iteration 10: Loss = 0.7011637091636658, Number of mined triplets = 125\n",
      "Epoch 6 Iteration 12: Loss = 0.7010443806648254, Number of mined triplets = 13\n",
      "Epoch 6 Iteration 14: Loss = 0.7009391784667969, Number of mined triplets = 14\n",
      "Epoch 6 Iteration 16: Loss = 0.0, Number of mined triplets = 0\n",
      "Epoch 6 Iteration 18: Loss = 0.0, Number of mined triplets = 0\n",
      "Epoch 6 Iteration 20: Loss = 0.0, Number of mined triplets = 0\n"
     ]
    },
    {
     "name": "stderr",
     "output_type": "stream",
     "text": [
      "100%|██████████| 41/41 [02:36<00:00,  3.81s/it]\n",
      "100%|██████████| 2/2 [00:08<00:00,  4.20s/it]\n"
     ]
    },
    {
     "name": "stdout",
     "output_type": "stream",
     "text": [
      "Computing accuracy\n",
      "Test set accuracy (Precision@1) = 0.7368421052631579\n",
      "73.8\n",
      "              precision    recall  f1-score   support\n",
      "\n",
      "       roots       1.00      0.42      0.59        12\n",
      "       stems       0.73      0.92      0.81        12\n",
      "      leaves       1.00      0.78      0.88        18\n",
      "      fruits       0.52      0.80      0.63        15\n",
      "\n",
      "    accuracy                           0.74        57\n",
      "   macro avg       0.81      0.73      0.73        57\n",
      "weighted avg       0.82      0.74      0.74        57\n",
      "\n",
      "Epoch 7 Iteration 0: Loss = 0.7010663151741028, Number of mined triplets = 73\n",
      "Epoch 7 Iteration 2: Loss = 0.7011697292327881, Number of mined triplets = 4\n",
      "Epoch 7 Iteration 4: Loss = 0.0, Number of mined triplets = 0\n",
      "Epoch 7 Iteration 6: Loss = 0.7011315226554871, Number of mined triplets = 33\n",
      "Epoch 7 Iteration 8: Loss = 0.7011122107505798, Number of mined triplets = 107\n",
      "Epoch 7 Iteration 10: Loss = 0.7010128498077393, Number of mined triplets = 75\n",
      "Epoch 7 Iteration 12: Loss = 0.7012146711349487, Number of mined triplets = 49\n",
      "Epoch 7 Iteration 14: Loss = 0.7010825872421265, Number of mined triplets = 29\n",
      "Epoch 7 Iteration 16: Loss = 0.7013756036758423, Number of mined triplets = 55\n",
      "Epoch 7 Iteration 18: Loss = 0.0, Number of mined triplets = 0\n",
      "Epoch 7 Iteration 20: Loss = 0.0, Number of mined triplets = 0\n"
     ]
    },
    {
     "name": "stderr",
     "output_type": "stream",
     "text": [
      "100%|██████████| 41/41 [02:38<00:00,  3.87s/it]\n",
      "100%|██████████| 2/2 [00:08<00:00,  4.32s/it]\n"
     ]
    },
    {
     "name": "stdout",
     "output_type": "stream",
     "text": [
      "Computing accuracy\n",
      "Test set accuracy (Precision@1) = 0.7368421052631579\n",
      "74.4\n",
      "              precision    recall  f1-score   support\n",
      "\n",
      "       roots       0.75      0.50      0.60        12\n",
      "       stems       0.82      0.75      0.78        12\n",
      "      leaves       1.00      0.83      0.91        18\n",
      "      fruits       0.52      0.80      0.63        15\n",
      "\n",
      "    accuracy                           0.74        57\n",
      "   macro avg       0.77      0.72      0.73        57\n",
      "weighted avg       0.78      0.74      0.74        57\n",
      "\n",
      "Epoch 8 Iteration 0: Loss = 0.7009995579719543, Number of mined triplets = 7\n",
      "Epoch 8 Iteration 2: Loss = 0.7010116577148438, Number of mined triplets = 25\n",
      "Epoch 8 Iteration 4: Loss = 0.0, Number of mined triplets = 0\n",
      "Epoch 8 Iteration 6: Loss = 0.7010673880577087, Number of mined triplets = 22\n",
      "Epoch 8 Iteration 8: Loss = 0.0, Number of mined triplets = 0\n",
      "Epoch 8 Iteration 10: Loss = 0.7011438012123108, Number of mined triplets = 52\n",
      "Epoch 8 Iteration 12: Loss = 0.7010974884033203, Number of mined triplets = 5\n",
      "Epoch 8 Iteration 14: Loss = 0.7010343670845032, Number of mined triplets = 15\n",
      "Epoch 8 Iteration 16: Loss = 0.701002836227417, Number of mined triplets = 3\n",
      "Epoch 8 Iteration 18: Loss = 0.0, Number of mined triplets = 0\n",
      "Epoch 8 Iteration 20: Loss = 0.0, Number of mined triplets = 0\n"
     ]
    },
    {
     "name": "stderr",
     "output_type": "stream",
     "text": [
      "100%|██████████| 41/41 [02:38<00:00,  3.87s/it]\n",
      "100%|██████████| 2/2 [00:08<00:00,  4.24s/it]\n"
     ]
    },
    {
     "name": "stdout",
     "output_type": "stream",
     "text": [
      "Computing accuracy\n",
      "Test set accuracy (Precision@1) = 0.6842105263157895\n",
      "66.5\n",
      "              precision    recall  f1-score   support\n",
      "\n",
      "       roots       1.00      0.25      0.40        12\n",
      "       stems       0.60      1.00      0.75        12\n",
      "      leaves       0.93      0.78      0.85        18\n",
      "      fruits       0.53      0.67      0.59        15\n",
      "\n",
      "    accuracy                           0.68        57\n",
      "   macro avg       0.76      0.67      0.65        57\n",
      "weighted avg       0.77      0.68      0.66        57\n",
      "\n",
      "Epoch 9 Iteration 0: Loss = 0.7009382843971252, Number of mined triplets = 4\n",
      "Epoch 9 Iteration 2: Loss = 0.0, Number of mined triplets = 0\n",
      "Epoch 9 Iteration 4: Loss = 0.7008833289146423, Number of mined triplets = 1\n",
      "Epoch 9 Iteration 6: Loss = 0.7012455463409424, Number of mined triplets = 40\n",
      "Epoch 9 Iteration 8: Loss = 0.7011111974716187, Number of mined triplets = 9\n",
      "Epoch 9 Iteration 10: Loss = 0.7016856074333191, Number of mined triplets = 129\n",
      "Epoch 9 Iteration 12: Loss = 0.7010639309883118, Number of mined triplets = 9\n",
      "Epoch 9 Iteration 14: Loss = 0.7011239528656006, Number of mined triplets = 17\n",
      "Epoch 9 Iteration 16: Loss = 0.7011710405349731, Number of mined triplets = 21\n",
      "Epoch 9 Iteration 18: Loss = 0.0, Number of mined triplets = 0\n",
      "Epoch 9 Iteration 20: Loss = 0.0, Number of mined triplets = 0\n"
     ]
    },
    {
     "name": "stderr",
     "output_type": "stream",
     "text": [
      "100%|██████████| 41/41 [02:40<00:00,  3.90s/it]\n",
      "100%|██████████| 2/2 [00:08<00:00,  4.47s/it]\n"
     ]
    },
    {
     "name": "stdout",
     "output_type": "stream",
     "text": [
      "Computing accuracy\n",
      "Test set accuracy (Precision@1) = 0.6491228070175439\n",
      "67.2\n",
      "              precision    recall  f1-score   support\n",
      "\n",
      "       roots       0.47      0.58      0.52        12\n",
      "       stems       1.00      0.58      0.74        12\n",
      "      leaves       1.00      0.78      0.88        18\n",
      "      fruits       0.43      0.60      0.50        15\n",
      "\n",
      "    accuracy                           0.65        57\n",
      "   macro avg       0.72      0.64      0.66        57\n",
      "weighted avg       0.74      0.65      0.67        57\n",
      "\n",
      "Epoch 10 Iteration 0: Loss = 0.7011954188346863, Number of mined triplets = 26\n",
      "Epoch 10 Iteration 2: Loss = 0.7009506821632385, Number of mined triplets = 1\n",
      "Epoch 10 Iteration 4: Loss = 0.0, Number of mined triplets = 0\n",
      "Epoch 10 Iteration 6: Loss = 0.0, Number of mined triplets = 0\n",
      "Epoch 10 Iteration 8: Loss = 0.7011845111846924, Number of mined triplets = 29\n",
      "Epoch 10 Iteration 10: Loss = 0.7011169791221619, Number of mined triplets = 15\n",
      "Epoch 10 Iteration 12: Loss = 0.7009658813476562, Number of mined triplets = 7\n",
      "Epoch 10 Iteration 14: Loss = 0.7010278105735779, Number of mined triplets = 11\n",
      "Epoch 10 Iteration 16: Loss = 0.0, Number of mined triplets = 0\n",
      "Epoch 10 Iteration 18: Loss = 0.0, Number of mined triplets = 0\n",
      "Epoch 10 Iteration 20: Loss = 0.0, Number of mined triplets = 0\n"
     ]
    },
    {
     "name": "stderr",
     "output_type": "stream",
     "text": [
      "100%|██████████| 41/41 [02:36<00:00,  3.81s/it]\n",
      "100%|██████████| 2/2 [00:08<00:00,  4.29s/it]\n"
     ]
    },
    {
     "name": "stdout",
     "output_type": "stream",
     "text": [
      "Computing accuracy\n",
      "Test set accuracy (Precision@1) = 0.7192982456140351\n",
      "73.2\n",
      "              precision    recall  f1-score   support\n",
      "\n",
      "       roots       0.88      0.58      0.70        12\n",
      "       stems       0.82      0.75      0.78        12\n",
      "      leaves       0.93      0.78      0.85        18\n",
      "      fruits       0.48      0.73      0.58        15\n",
      "\n",
      "    accuracy                           0.72        57\n",
      "   macro avg       0.78      0.71      0.73        57\n",
      "weighted avg       0.78      0.72      0.73        57\n",
      "\n",
      "Epoch 11 Iteration 0: Loss = 0.0, Number of mined triplets = 0\n",
      "Epoch 11 Iteration 2: Loss = 0.7011550664901733, Number of mined triplets = 52\n",
      "Epoch 11 Iteration 4: Loss = 0.0, Number of mined triplets = 0\n",
      "Epoch 11 Iteration 6: Loss = 0.0, Number of mined triplets = 0\n",
      "Epoch 11 Iteration 8: Loss = 0.7014122605323792, Number of mined triplets = 340\n",
      "Epoch 11 Iteration 10: Loss = 0.7009761333465576, Number of mined triplets = 9\n",
      "Epoch 11 Iteration 12: Loss = 0.0, Number of mined triplets = 0\n",
      "Epoch 11 Iteration 14: Loss = 0.0, Number of mined triplets = 0\n",
      "Epoch 11 Iteration 16: Loss = 0.0, Number of mined triplets = 0\n",
      "Epoch 11 Iteration 18: Loss = 0.7009038329124451, Number of mined triplets = 1\n",
      "Epoch 11 Iteration 20: Loss = 0.0, Number of mined triplets = 0\n"
     ]
    },
    {
     "name": "stderr",
     "output_type": "stream",
     "text": [
      "100%|██████████| 41/41 [02:37<00:00,  3.84s/it]\n",
      "100%|██████████| 2/2 [00:08<00:00,  4.23s/it]\n"
     ]
    },
    {
     "name": "stdout",
     "output_type": "stream",
     "text": [
      "Computing accuracy\n",
      "Test set accuracy (Precision@1) = 0.7368421052631579\n",
      "74.8\n",
      "              precision    recall  f1-score   support\n",
      "\n",
      "       roots       1.00      0.50      0.67        12\n",
      "       stems       0.82      0.75      0.78        12\n",
      "      leaves       1.00      0.78      0.88        18\n",
      "      fruits       0.50      0.87      0.63        15\n",
      "\n",
      "    accuracy                           0.74        57\n",
      "   macro avg       0.83      0.72      0.74        57\n",
      "weighted avg       0.83      0.74      0.75        57\n",
      "\n",
      "Epoch 12 Iteration 0: Loss = 0.7014455199241638, Number of mined triplets = 123\n",
      "Epoch 12 Iteration 2: Loss = 0.0, Number of mined triplets = 0\n",
      "Epoch 12 Iteration 4: Loss = 0.0, Number of mined triplets = 0\n",
      "Epoch 12 Iteration 6: Loss = 0.0, Number of mined triplets = 0\n",
      "Epoch 12 Iteration 8: Loss = 0.7014997601509094, Number of mined triplets = 450\n",
      "Epoch 12 Iteration 10: Loss = 0.7018300294876099, Number of mined triplets = 311\n",
      "Epoch 12 Iteration 12: Loss = 0.0, Number of mined triplets = 0\n",
      "Epoch 12 Iteration 14: Loss = 0.7010191082954407, Number of mined triplets = 1\n",
      "Epoch 12 Iteration 16: Loss = 0.0, Number of mined triplets = 0\n",
      "Epoch 12 Iteration 18: Loss = 0.0, Number of mined triplets = 0\n",
      "Epoch 12 Iteration 20: Loss = 0.0, Number of mined triplets = 0\n"
     ]
    },
    {
     "name": "stderr",
     "output_type": "stream",
     "text": [
      "100%|██████████| 41/41 [02:38<00:00,  3.86s/it]\n",
      "100%|██████████| 2/2 [00:08<00:00,  4.37s/it]\n"
     ]
    },
    {
     "name": "stdout",
     "output_type": "stream",
     "text": [
      "Computing accuracy\n",
      "Test set accuracy (Precision@1) = 0.7017543859649122\n",
      "70.9\n",
      "              precision    recall  f1-score   support\n",
      "\n",
      "       roots       0.75      0.50      0.60        12\n",
      "       stems       0.80      0.67      0.73        12\n",
      "      leaves       0.93      0.78      0.85        18\n",
      "      fruits       0.50      0.80      0.62        15\n",
      "\n",
      "    accuracy                           0.70        57\n",
      "   macro avg       0.75      0.69      0.70        57\n",
      "weighted avg       0.75      0.70      0.71        57\n",
      "\n",
      "Epoch 13 Iteration 0: Loss = 0.0, Number of mined triplets = 0\n",
      "Epoch 13 Iteration 2: Loss = 0.0, Number of mined triplets = 0\n",
      "Epoch 13 Iteration 4: Loss = 0.7010058164596558, Number of mined triplets = 4\n",
      "Epoch 13 Iteration 6: Loss = 0.7009268999099731, Number of mined triplets = 2\n",
      "Epoch 13 Iteration 8: Loss = 0.0, Number of mined triplets = 0\n",
      "Epoch 13 Iteration 10: Loss = 0.7010191679000854, Number of mined triplets = 10\n",
      "Epoch 13 Iteration 12: Loss = 0.0, Number of mined triplets = 0\n",
      "Epoch 13 Iteration 14: Loss = 0.7012045383453369, Number of mined triplets = 18\n",
      "Epoch 13 Iteration 16: Loss = 0.7008955478668213, Number of mined triplets = 2\n",
      "Epoch 13 Iteration 18: Loss = 0.7012359499931335, Number of mined triplets = 2\n",
      "Epoch 13 Iteration 20: Loss = 0.0, Number of mined triplets = 0\n"
     ]
    },
    {
     "name": "stderr",
     "output_type": "stream",
     "text": [
      "100%|██████████| 41/41 [02:39<00:00,  3.89s/it]\n",
      "100%|██████████| 2/2 [00:08<00:00,  4.31s/it]\n"
     ]
    },
    {
     "name": "stdout",
     "output_type": "stream",
     "text": [
      "Computing accuracy\n",
      "Test set accuracy (Precision@1) = 0.7894736842105263\n",
      "79.2\n",
      "              precision    recall  f1-score   support\n",
      "\n",
      "       roots       1.00      0.50      0.67        12\n",
      "       stems       0.91      0.83      0.87        12\n",
      "      leaves       0.94      0.89      0.91        18\n",
      "      fruits       0.57      0.87      0.68        15\n",
      "\n",
      "    accuracy                           0.79        57\n",
      "   macro avg       0.85      0.77      0.78        57\n",
      "weighted avg       0.85      0.79      0.79        57\n",
      "\n",
      "Epoch 14 Iteration 0: Loss = 0.0, Number of mined triplets = 0\n",
      "Epoch 14 Iteration 2: Loss = 0.7009245157241821, Number of mined triplets = 2\n",
      "Epoch 14 Iteration 4: Loss = 0.0, Number of mined triplets = 0\n",
      "Epoch 14 Iteration 6: Loss = 0.0, Number of mined triplets = 0\n",
      "Epoch 14 Iteration 8: Loss = 0.7011790871620178, Number of mined triplets = 338\n",
      "Epoch 14 Iteration 10: Loss = 0.7010689973831177, Number of mined triplets = 42\n",
      "Epoch 14 Iteration 12: Loss = 0.701074481010437, Number of mined triplets = 5\n",
      "Epoch 14 Iteration 14: Loss = 0.0, Number of mined triplets = 0\n",
      "Epoch 14 Iteration 16: Loss = 0.0, Number of mined triplets = 0\n",
      "Epoch 14 Iteration 18: Loss = 0.0, Number of mined triplets = 0\n",
      "Epoch 14 Iteration 20: Loss = 0.0, Number of mined triplets = 0\n"
     ]
    },
    {
     "name": "stderr",
     "output_type": "stream",
     "text": [
      "100%|██████████| 41/41 [02:39<00:00,  3.90s/it]\n",
      "100%|██████████| 2/2 [00:08<00:00,  4.26s/it]\n"
     ]
    },
    {
     "name": "stdout",
     "output_type": "stream",
     "text": [
      "Computing accuracy\n",
      "Test set accuracy (Precision@1) = 0.8070175438596491\n",
      "81.0\n",
      "              precision    recall  f1-score   support\n",
      "\n",
      "       roots       0.89      0.67      0.76        12\n",
      "       stems       0.80      1.00      0.89        12\n",
      "      leaves       1.00      0.78      0.88        18\n",
      "      fruits       0.63      0.80      0.71        15\n",
      "\n",
      "    accuracy                           0.81        57\n",
      "   macro avg       0.83      0.81      0.81        57\n",
      "weighted avg       0.84      0.81      0.81        57\n",
      "\n",
      "Epoch 15 Iteration 0: Loss = 0.0, Number of mined triplets = 0\n",
      "Epoch 15 Iteration 2: Loss = 0.0, Number of mined triplets = 0\n",
      "Epoch 15 Iteration 4: Loss = 0.700882613658905, Number of mined triplets = 1\n",
      "Epoch 15 Iteration 6: Loss = 0.0, Number of mined triplets = 0\n",
      "Epoch 15 Iteration 8: Loss = 0.0, Number of mined triplets = 0\n",
      "Epoch 15 Iteration 10: Loss = 0.0, Number of mined triplets = 0\n",
      "Epoch 15 Iteration 12: Loss = 0.0, Number of mined triplets = 0\n",
      "Epoch 15 Iteration 14: Loss = 0.0, Number of mined triplets = 0\n",
      "Epoch 15 Iteration 16: Loss = 0.0, Number of mined triplets = 0\n",
      "Epoch 15 Iteration 18: Loss = 0.0, Number of mined triplets = 0\n",
      "Epoch 15 Iteration 20: Loss = 0.0, Number of mined triplets = 0\n"
     ]
    },
    {
     "name": "stderr",
     "output_type": "stream",
     "text": [
      "100%|██████████| 41/41 [02:34<00:00,  3.78s/it]\n",
      "100%|██████████| 2/2 [00:09<00:00,  4.82s/it]\n"
     ]
    },
    {
     "name": "stdout",
     "output_type": "stream",
     "text": [
      "Computing accuracy\n",
      "Test set accuracy (Precision@1) = 0.7543859649122807\n",
      "76.0\n",
      "              precision    recall  f1-score   support\n",
      "\n",
      "       roots       0.67      0.50      0.57        12\n",
      "       stems       0.92      0.92      0.92        12\n",
      "      leaves       1.00      0.78      0.88        18\n",
      "      fruits       0.55      0.80      0.65        15\n",
      "\n",
      "    accuracy                           0.75        57\n",
      "   macro avg       0.78      0.75      0.75        57\n",
      "weighted avg       0.79      0.75      0.76        57\n",
      "\n",
      "Epoch 16 Iteration 0: Loss = 0.0, Number of mined triplets = 0\n",
      "Epoch 16 Iteration 2: Loss = 0.0, Number of mined triplets = 0\n",
      "Epoch 16 Iteration 4: Loss = 0.7022438049316406, Number of mined triplets = 124\n",
      "Epoch 16 Iteration 6: Loss = 0.0, Number of mined triplets = 0\n",
      "Epoch 16 Iteration 8: Loss = 0.0, Number of mined triplets = 0\n",
      "Epoch 16 Iteration 10: Loss = 0.0, Number of mined triplets = 0\n",
      "Epoch 16 Iteration 12: Loss = 0.0, Number of mined triplets = 0\n",
      "Epoch 16 Iteration 14: Loss = 0.0, Number of mined triplets = 0\n",
      "Epoch 16 Iteration 16: Loss = 0.7013328075408936, Number of mined triplets = 31\n",
      "Epoch 16 Iteration 18: Loss = 0.0, Number of mined triplets = 0\n",
      "Epoch 16 Iteration 20: Loss = 0.0, Number of mined triplets = 0\n"
     ]
    },
    {
     "name": "stderr",
     "output_type": "stream",
     "text": [
      "100%|██████████| 41/41 [02:39<00:00,  3.90s/it]\n",
      "100%|██████████| 2/2 [00:08<00:00,  4.38s/it]\n"
     ]
    },
    {
     "name": "stdout",
     "output_type": "stream",
     "text": [
      "Computing accuracy\n",
      "Test set accuracy (Precision@1) = 0.7543859649122807\n",
      "75.3\n",
      "              precision    recall  f1-score   support\n",
      "\n",
      "       roots       1.00      0.50      0.67        12\n",
      "       stems       0.71      1.00      0.83        12\n",
      "      leaves       0.93      0.78      0.85        18\n",
      "      fruits       0.58      0.73      0.65        15\n",
      "\n",
      "    accuracy                           0.75        57\n",
      "   macro avg       0.80      0.75      0.75        57\n",
      "weighted avg       0.81      0.75      0.75        57\n",
      "\n",
      "Epoch 17 Iteration 0: Loss = 0.0, Number of mined triplets = 0\n",
      "Epoch 17 Iteration 2: Loss = 0.7011058330535889, Number of mined triplets = 11\n",
      "Epoch 17 Iteration 4: Loss = 0.0, Number of mined triplets = 0\n",
      "Epoch 17 Iteration 6: Loss = 0.0, Number of mined triplets = 0\n",
      "Epoch 17 Iteration 8: Loss = 0.7011876106262207, Number of mined triplets = 24\n",
      "Epoch 17 Iteration 10: Loss = 0.0, Number of mined triplets = 0\n",
      "Epoch 17 Iteration 12: Loss = 0.0, Number of mined triplets = 0\n",
      "Epoch 17 Iteration 14: Loss = 0.0, Number of mined triplets = 0\n",
      "Epoch 17 Iteration 16: Loss = 0.7010583281517029, Number of mined triplets = 3\n",
      "Epoch 17 Iteration 18: Loss = 0.0, Number of mined triplets = 0\n",
      "Epoch 17 Iteration 20: Loss = 0.0, Number of mined triplets = 0\n"
     ]
    },
    {
     "name": "stderr",
     "output_type": "stream",
     "text": [
      "100%|██████████| 41/41 [02:40<00:00,  3.91s/it]\n",
      "100%|██████████| 2/2 [00:09<00:00,  4.55s/it]\n"
     ]
    },
    {
     "name": "stdout",
     "output_type": "stream",
     "text": [
      "Computing accuracy\n",
      "Test set accuracy (Precision@1) = 0.7719298245614035\n",
      "77.3\n",
      "              precision    recall  f1-score   support\n",
      "\n",
      "       roots       1.00      0.50      0.67        12\n",
      "       stems       0.75      1.00      0.86        12\n",
      "      leaves       1.00      0.78      0.88        18\n",
      "      fruits       0.57      0.80      0.67        15\n",
      "\n",
      "    accuracy                           0.77        57\n",
      "   macro avg       0.83      0.77      0.77        57\n",
      "weighted avg       0.83      0.77      0.77        57\n",
      "\n",
      "Epoch 18 Iteration 0: Loss = 0.0, Number of mined triplets = 0\n",
      "Epoch 18 Iteration 2: Loss = 0.0, Number of mined triplets = 0\n",
      "Epoch 18 Iteration 4: Loss = 0.0, Number of mined triplets = 0\n",
      "Epoch 18 Iteration 6: Loss = 0.0, Number of mined triplets = 0\n",
      "Epoch 18 Iteration 8: Loss = 0.0, Number of mined triplets = 0\n",
      "Epoch 18 Iteration 10: Loss = 0.0, Number of mined triplets = 0\n",
      "Epoch 18 Iteration 12: Loss = 0.0, Number of mined triplets = 0\n",
      "Epoch 18 Iteration 14: Loss = 0.0, Number of mined triplets = 0\n",
      "Epoch 18 Iteration 16: Loss = 0.0, Number of mined triplets = 0\n",
      "Epoch 18 Iteration 18: Loss = 0.0, Number of mined triplets = 0\n",
      "Epoch 18 Iteration 20: Loss = 0.0, Number of mined triplets = 0\n"
     ]
    },
    {
     "name": "stderr",
     "output_type": "stream",
     "text": [
      "100%|██████████| 41/41 [02:40<00:00,  3.91s/it]\n",
      "100%|██████████| 2/2 [00:08<00:00,  4.35s/it]\n"
     ]
    },
    {
     "name": "stdout",
     "output_type": "stream",
     "text": [
      "Computing accuracy\n",
      "Test set accuracy (Precision@1) = 0.7543859649122807\n",
      "75.0\n",
      "              precision    recall  f1-score   support\n",
      "\n",
      "       roots       1.00      0.42      0.59        12\n",
      "       stems       0.71      1.00      0.83        12\n",
      "      leaves       1.00      0.78      0.88        18\n",
      "      fruits       0.57      0.80      0.67        15\n",
      "\n",
      "    accuracy                           0.75        57\n",
      "   macro avg       0.82      0.75      0.74        57\n",
      "weighted avg       0.83      0.75      0.75        57\n",
      "\n",
      "Epoch 19 Iteration 0: Loss = 0.0, Number of mined triplets = 0\n",
      "Epoch 19 Iteration 2: Loss = 0.0, Number of mined triplets = 0\n",
      "Epoch 19 Iteration 4: Loss = 0.7013197541236877, Number of mined triplets = 11\n",
      "Epoch 19 Iteration 6: Loss = 0.0, Number of mined triplets = 0\n",
      "Epoch 19 Iteration 8: Loss = 0.0, Number of mined triplets = 0\n",
      "Epoch 19 Iteration 10: Loss = 0.0, Number of mined triplets = 0\n",
      "Epoch 19 Iteration 12: Loss = 0.7012539505958557, Number of mined triplets = 3\n",
      "Epoch 19 Iteration 14: Loss = 0.0, Number of mined triplets = 0\n",
      "Epoch 19 Iteration 16: Loss = 0.0, Number of mined triplets = 0\n",
      "Epoch 19 Iteration 18: Loss = 0.0, Number of mined triplets = 0\n",
      "Epoch 19 Iteration 20: Loss = 0.0, Number of mined triplets = 0\n"
     ]
    },
    {
     "name": "stderr",
     "output_type": "stream",
     "text": [
      "100%|██████████| 41/41 [02:42<00:00,  3.96s/it]\n",
      "100%|██████████| 2/2 [00:09<00:00,  4.64s/it]\n"
     ]
    },
    {
     "name": "stdout",
     "output_type": "stream",
     "text": [
      "Computing accuracy\n",
      "Test set accuracy (Precision@1) = 0.7543859649122807\n",
      "76.3\n",
      "              precision    recall  f1-score   support\n",
      "\n",
      "       roots       0.78      0.58      0.67        12\n",
      "       stems       0.85      0.92      0.88        12\n",
      "      leaves       1.00      0.78      0.88        18\n",
      "      fruits       0.52      0.73      0.61        15\n",
      "\n",
      "    accuracy                           0.75        57\n",
      "   macro avg       0.79      0.75      0.76        57\n",
      "weighted avg       0.80      0.75      0.76        57\n",
      "\n",
      "Epoch 20 Iteration 0: Loss = 0.0, Number of mined triplets = 0\n",
      "Epoch 20 Iteration 2: Loss = 0.0, Number of mined triplets = 0\n",
      "Epoch 20 Iteration 4: Loss = 0.0, Number of mined triplets = 0\n",
      "Epoch 20 Iteration 6: Loss = 0.0, Number of mined triplets = 0\n",
      "Epoch 20 Iteration 8: Loss = 0.0, Number of mined triplets = 0\n",
      "Epoch 20 Iteration 10: Loss = 0.7010454535484314, Number of mined triplets = 4\n",
      "Epoch 20 Iteration 12: Loss = 0.0, Number of mined triplets = 0\n",
      "Epoch 20 Iteration 14: Loss = 0.7011067271232605, Number of mined triplets = 5\n",
      "Epoch 20 Iteration 16: Loss = 0.7011428475379944, Number of mined triplets = 1\n",
      "Epoch 20 Iteration 18: Loss = 0.0, Number of mined triplets = 0\n",
      "Epoch 20 Iteration 20: Loss = 0.0, Number of mined triplets = 0\n"
     ]
    },
    {
     "name": "stderr",
     "output_type": "stream",
     "text": [
      "100%|██████████| 41/41 [02:40<00:00,  3.91s/it]\n",
      "100%|██████████| 2/2 [00:08<00:00,  4.40s/it]"
     ]
    },
    {
     "name": "stdout",
     "output_type": "stream",
     "text": [
      "Computing accuracy\n",
      "Test set accuracy (Precision@1) = 0.7543859649122807\n",
      "74.9\n",
      "              precision    recall  f1-score   support\n",
      "\n",
      "       roots       0.83      0.42      0.56        12\n",
      "       stems       0.75      1.00      0.86        12\n",
      "      leaves       1.00      0.78      0.88        18\n",
      "      fruits       0.57      0.80      0.67        15\n",
      "\n",
      "    accuracy                           0.75        57\n",
      "   macro avg       0.79      0.75      0.74        57\n",
      "weighted avg       0.80      0.75      0.75        57\n",
      "\n"
     ]
    },
    {
     "name": "stderr",
     "output_type": "stream",
     "text": [
      "\n"
     ]
    }
   ],
   "source": [
    "for epoch in range(1, num_epochs + 1):\n",
    "    train(pretrained, loss_func, mining_func, train_dataloader, optimizer, epoch)\n",
    "    test(training_data, test_data, pretrained, accuracy_calculator)"
   ]
  },
  {
   "cell_type": "code",
   "execution_count": null,
   "id": "eec20e13",
   "metadata": {
    "ExecuteTime": {
     "start_time": "2022-07-31T16:18:56.443Z"
    }
   },
   "outputs": [],
   "source": [
    "max(f1_list)"
   ]
  },
  {
   "cell_type": "code",
   "execution_count": null,
   "id": "9c34bebd",
   "metadata": {},
   "outputs": [],
   "source": []
  }
 ],
 "metadata": {
  "kernelspec": {
   "display_name": "pytorch_venv",
   "language": "python",
   "name": "pytorch_venv"
  },
  "language_info": {
   "codemirror_mode": {
    "name": "ipython",
    "version": 3
   },
   "file_extension": ".py",
   "mimetype": "text/x-python",
   "name": "python",
   "nbconvert_exporter": "python",
   "pygments_lexer": "ipython3",
   "version": "3.7.10"
  },
  "toc": {
   "base_numbering": 1,
   "nav_menu": {},
   "number_sections": true,
   "sideBar": true,
   "skip_h1_title": false,
   "title_cell": "Table of Contents",
   "title_sidebar": "Contents",
   "toc_cell": false,
   "toc_position": {
    "height": "calc(100% - 180px)",
    "left": "10px",
    "top": "150px",
    "width": "218px"
   },
   "toc_section_display": true,
   "toc_window_display": true
  }
 },
 "nbformat": 4,
 "nbformat_minor": 5
}
